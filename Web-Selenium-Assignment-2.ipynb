{
 "cells": [
  {
   "cell_type": "code",
   "execution_count": 29,
   "id": "b88504ba",
   "metadata": {},
   "outputs": [],
   "source": [
    "import selenium\n",
    "import pandas as pd\n",
    "from selenium import webdriver\n",
    "import warnings\n",
    "warnings.filterwarnings(\"ignore\")\n",
    "from selenium.webdriver.common.by import By\n",
    "import time"
   ]
  },
  {
   "cell_type": "code",
   "execution_count": 67,
   "id": "a32b8ede",
   "metadata": {},
   "outputs": [],
   "source": [
    "driver=webdriver.Chrome()"
   ]
  },
  {
   "cell_type": "code",
   "execution_count": 68,
   "id": "7e55130b",
   "metadata": {},
   "outputs": [],
   "source": [
    "driver.get(\"https://www.shine.com/\")"
   ]
  },
  {
   "cell_type": "code",
   "execution_count": 69,
   "id": "ca9cd215",
   "metadata": {},
   "outputs": [],
   "source": [
    "from selenium.webdriver.common.by import By\n",
    "from selenium.webdriver.support.ui import WebDriverWait"
   ]
  },
  {
   "cell_type": "code",
   "execution_count": 71,
   "id": "946a0ea8",
   "metadata": {},
   "outputs": [],
   "source": [
    "designation=driver.find_element(By.XPATH,'/html/body/div/div[4]/div/div[2]/div[2]/div/form/div/div[1]/ul/li[1]/div/input')\n",
    "designation.send_keys(\"Data Analyst\")"
   ]
  },
  {
   "cell_type": "code",
   "execution_count": 72,
   "id": "f914af4d",
   "metadata": {},
   "outputs": [],
   "source": [
    "location=driver.find_element(By.XPATH,'/html/body/div/div[4]/div/div[2]/div[2]/div/form/div/div[1]/ul/li[2]/div/input')\n",
    "location.send_keys(\"Bangalore\")"
   ]
  },
  {
   "cell_type": "code",
   "execution_count": 73,
   "id": "77bee8f8",
   "metadata": {},
   "outputs": [],
   "source": [
    "experience=driver.find_element(By.XPATH,'/html/body/div/div[4]/div/div[2]/div[2]/div/form/div/div[1]/ul/li[3]/div/input[1]')\n",
    "experience.send_keys(2)"
   ]
  },
  {
   "cell_type": "code",
   "execution_count": 74,
   "id": "178b4724",
   "metadata": {},
   "outputs": [],
   "source": [
    "search=driver.find_element(By.XPATH,'/html/body/div/div[4]/div/div[2]/div[2]/div/form/div/div[2]/div/button')\n",
    "search.click()"
   ]
  },
  {
   "cell_type": "code",
   "execution_count": 76,
   "id": "22659a52",
   "metadata": {},
   "outputs": [],
   "source": [
    "job_title=[]"
   ]
  },
  {
   "cell_type": "code",
   "execution_count": 77,
   "id": "b1c58102",
   "metadata": {},
   "outputs": [],
   "source": [
    "title_tags=driver.find_elements(By.XPATH,'/html/body/div[1]/div[1]/div[4]/div/div[2]/div[1]/div/div/div[1]/div[1]/div[1]/h2/a')\n",
    "for i in title_tags:\n",
    "    title=i.text\n",
    "    job_title.append(title)"
   ]
  },
  {
   "cell_type": "code",
   "execution_count": 79,
   "id": "890f0d96",
   "metadata": {},
   "outputs": [],
   "source": [
    "job_location=[]\n",
    "location_tags=driver.find_elements(By.XPATH,'/html/body/div[1]/div[1]/div[4]/div/div[2]/div[1]/div/div/div[1]/div[1]/div[1]/div[3]/div[2]')\n",
    "for i in location_tags:\n",
    "    location=i.text\n",
    "    job_location.append(title)"
   ]
  },
  {
   "cell_type": "code",
   "execution_count": 83,
   "id": "47aee4a0",
   "metadata": {},
   "outputs": [],
   "source": [
    "company_experiance=[]\n",
    "experiance_tags=driver.find_elements(By.XPATH,'/html/body/div[1]/div[1]/div[4]/div/div[2]/div[1]/div/div[1]/div[1]/div[1]/div[1]/div[3]/div[1]')\n",
    "for i in experiance_tags:\n",
    "    experiance=i.text\n",
    "    company_experiance.append(title)"
   ]
  },
  {
   "cell_type": "code",
   "execution_count": 1,
   "id": "58c5ae58",
   "metadata": {},
   "outputs": [],
   "source": [
    "import selenium\n",
    "import pandas as pd\n",
    "from selenium import webdriver\n",
    "import warnings\n",
    "warnings.filterwarnings(\"ignore\")\n",
    "from selenium.webdriver.common.by import By\n",
    "import time"
   ]
  },
  {
   "cell_type": "code",
   "execution_count": 27,
   "id": "d19440ba",
   "metadata": {},
   "outputs": [],
   "source": [
    "driver=webdriver.Chrome()"
   ]
  },
  {
   "cell_type": "code",
   "execution_count": 28,
   "id": "f05aa834",
   "metadata": {},
   "outputs": [],
   "source": [
    "driver.get(' https://www.flipkart.com/')"
   ]
  },
  {
   "cell_type": "code",
   "execution_count": 29,
   "id": "9e7e4a20",
   "metadata": {},
   "outputs": [],
   "source": [
    "search=driver.find_element(By.XPATH,'/html/body/div[1]/div/div[1]/div/div/div/div/div[1]/div/div[1]/div/div[1]/div[1]/header/div[1]/div[2]/form/div/div/input')\n",
    "search.send_keys(\"Sunglass\")"
   ]
  },
  {
   "cell_type": "code",
   "execution_count": 37,
   "id": "e559b768",
   "metadata": {},
   "outputs": [],
   "source": [
    "sunglass_titles=[]\n",
    "start=0\n",
    "end=3\n",
    "for page in range(start,end):\n",
    "    titles=driver.find_elements(By.XPATH,'//div[@class=\"_2WkVRV\"]')\n",
    "    for i in titles:\n",
    "        sunglass_titles.append(i.text)\n",
    "    next_button=driver.find_element(By.XPATH,'/html/body/div/div/div[3]/div[1]/div[2]/div[12]/div/div/nav/a[12]/span')\n",
    "    next_button.click()\n",
    "    time.sleep(3)"
   ]
  },
  {
   "cell_type": "code",
   "execution_count": 38,
   "id": "a423e601",
   "metadata": {},
   "outputs": [
    {
     "data": {
      "text/plain": [
       "120"
      ]
     },
     "execution_count": 38,
     "metadata": {},
     "output_type": "execute_result"
    }
   ],
   "source": [
    "len(sunglass_titles)"
   ]
  },
  {
   "cell_type": "code",
   "execution_count": 40,
   "id": "e80c473c",
   "metadata": {},
   "outputs": [
    {
     "data": {
      "text/plain": [
       "['Singco India',\n",
       " 'Singco India',\n",
       " 'PROVOGUE',\n",
       " 'VINCENT CHASE',\n",
       " 'ROYAL SON',\n",
       " 'iCopertina',\n",
       " 'Eyewearlabs',\n",
       " 'Eyewearlabs',\n",
       " 'VINCENT CHASE',\n",
       " 'PIRASO',\n",
       " 'ROYAL SON',\n",
       " 'ROYAL SON',\n",
       " 'ROZZETTA CRAFT',\n",
       " 'PIRASO',\n",
       " 'Elligator',\n",
       " 'Elgator',\n",
       " 'ROYAL SON',\n",
       " 'Hooper',\n",
       " 'Rich Club',\n",
       " 'RBGIIT',\n",
       " 'Eyenaks',\n",
       " 'Singco India',\n",
       " 'PIRASO',\n",
       " 'Elligator',\n",
       " 'ROYAL SON',\n",
       " 'PIRASO',\n",
       " 'ROZZETTA CRAFT',\n",
       " 'PROVOGUE',\n",
       " 'Elligator',\n",
       " 'Ray-Ban',\n",
       " 'ROYAL SON',\n",
       " 'Singco India',\n",
       " 'Fastrack',\n",
       " 'PIRASO',\n",
       " 'ROZZETTA CRAFT',\n",
       " 'Fastrack',\n",
       " 'AISLIN',\n",
       " 'NuVew',\n",
       " 'RESIST EYEWEAR',\n",
       " 'Singco India',\n",
       " 'Eyewearlabs',\n",
       " 'Eyewearlabs',\n",
       " 'Fastrack',\n",
       " 'RESIST EYEWEAR',\n",
       " 'Singco India',\n",
       " 'SRPM',\n",
       " 'ROYAL SON',\n",
       " 'ROYAL SON',\n",
       " 'VINCENT CHASE',\n",
       " 'ROYAL SON',\n",
       " 'ROYAL SON',\n",
       " 'Eyenaks',\n",
       " 'ROYAL SON',\n",
       " 'BKGE',\n",
       " 'PIRASO',\n",
       " 'Fastrack',\n",
       " 'Hooper',\n",
       " 'Eyewearlabs',\n",
       " 'VINCENT CHASE',\n",
       " 'VINCENT CHASE',\n",
       " 'ROZZETTA CRAFT',\n",
       " 'PROVOGUE',\n",
       " 'HRX by Hrithik Roshan',\n",
       " 'PIRASO',\n",
       " 'PIRASO',\n",
       " 'SRPM',\n",
       " 'ROYAL SON',\n",
       " 'AISLIN',\n",
       " 'ROADWAY',\n",
       " 'VINCENT CHASE',\n",
       " 'NuVew',\n",
       " 'ROYAL SON',\n",
       " 'ROZZETTA CRAFT',\n",
       " 'Lenskart Boost',\n",
       " 'Singco India',\n",
       " 'ROZZETTA CRAFT',\n",
       " 'Eyewearlabs',\n",
       " 'ROYAL SON',\n",
       " 'hayden haiza',\n",
       " 'VINCENT CHASE',\n",
       " 'Hooper',\n",
       " 'Hooper',\n",
       " 'VINCENT CHASE',\n",
       " 'ROZZETTA CRAFT',\n",
       " 'Singco India',\n",
       " 'VINCENT CHASE',\n",
       " 'Eyewearlabs',\n",
       " 'Eyewearlabs',\n",
       " 'METRONAUT',\n",
       " 'ROZZETTA CRAFT',\n",
       " 'ROYAL SON',\n",
       " 'Eyewearlabs',\n",
       " 'Royaltail',\n",
       " 'ROYAL SON',\n",
       " 'ROZZETTA CRAFT',\n",
       " 'NuVew',\n",
       " 'ROYAL SON',\n",
       " 'ROYAL SON',\n",
       " 'VINCENT CHASE',\n",
       " 'Elligator',\n",
       " 'ROYAL SON',\n",
       " 'ROYAL SON',\n",
       " 'Roadster',\n",
       " 'BABYMOON',\n",
       " 'ROZZETTA CRAFT',\n",
       " 'VINCENT CHASE',\n",
       " 'ROYAL SON',\n",
       " 'ROYAL SON',\n",
       " 'VINCENT CHASE',\n",
       " 'VINCENT CHASE',\n",
       " 'ROYAL SON',\n",
       " 'ROYAL SON',\n",
       " 'Roadster',\n",
       " 'Fastrack',\n",
       " 'VINCENT CHASE',\n",
       " 'VINCENT CHASE',\n",
       " 'ROYAL SON',\n",
       " 'ROYAL SON',\n",
       " 'Resist',\n",
       " 'VINCENT CHASE']"
      ]
     },
     "execution_count": 40,
     "metadata": {},
     "output_type": "execute_result"
    }
   ],
   "source": [
    "sunglass_titles"
   ]
  },
  {
   "cell_type": "code",
   "execution_count": 44,
   "id": "ae35c622",
   "metadata": {},
   "outputs": [],
   "source": [
    "price_tag=[]\n",
    "start=0\n",
    "end=3\n",
    "for page in range(start,end):\n",
    "    price=driver.find_elements(By.XPATH,'//div[@class=\"_30jeq3\"]')\n",
    "    for i in price:\n",
    "        price_tag.append(i.text)\n",
    "    next_button=driver.find_element(By.XPATH,'/html/body/div/div/div[3]/div[1]/div[2]/div[12]/div/div/nav/a[12]')\n",
    "    next_button.click()\n",
    "    time.sleep(3)"
   ]
  },
  {
   "cell_type": "code",
   "execution_count": 45,
   "id": "a6d059b5",
   "metadata": {},
   "outputs": [
    {
     "data": {
      "text/plain": [
       "120"
      ]
     },
     "execution_count": 45,
     "metadata": {},
     "output_type": "execute_result"
    }
   ],
   "source": [
    "len(price_tag)"
   ]
  },
  {
   "cell_type": "code",
   "execution_count": 46,
   "id": "c4dda120",
   "metadata": {},
   "outputs": [
    {
     "data": {
      "text/plain": [
       "['₹2,199',\n",
       " '₹1,236',\n",
       " '₹643',\n",
       " '₹811',\n",
       " '₹559',\n",
       " '₹130',\n",
       " '₹359',\n",
       " '₹594',\n",
       " '₹499',\n",
       " '₹244',\n",
       " '₹599',\n",
       " '₹1,999',\n",
       " '₹482',\n",
       " '₹388',\n",
       " '₹169',\n",
       " '₹179',\n",
       " '₹664',\n",
       " '₹346',\n",
       " '₹455',\n",
       " '₹229',\n",
       " '₹634',\n",
       " '₹385',\n",
       " '₹199',\n",
       " '₹159',\n",
       " '₹636',\n",
       " '₹299',\n",
       " '₹427',\n",
       " '₹445',\n",
       " '₹375',\n",
       " '₹249',\n",
       " '₹381',\n",
       " '₹675',\n",
       " '₹4,779',\n",
       " '₹888',\n",
       " '₹232',\n",
       " '₹482',\n",
       " '₹1,999',\n",
       " '₹1,225',\n",
       " '₹739',\n",
       " '₹1,250',\n",
       " '₹499',\n",
       " '₹1,199',\n",
       " '₹739',\n",
       " '₹1,250',\n",
       " '₹317',\n",
       " '₹169',\n",
       " '₹674',\n",
       " '₹1,999',\n",
       " '₹709',\n",
       " '₹551',\n",
       " '₹379',\n",
       " '₹2,099',\n",
       " '₹594',\n",
       " '₹159',\n",
       " '₹299',\n",
       " '₹739',\n",
       " '₹435',\n",
       " '₹1,189',\n",
       " '₹949',\n",
       " '₹759',\n",
       " '₹359',\n",
       " '₹719',\n",
       " '₹779',\n",
       " '₹279',\n",
       " '₹199',\n",
       " '₹299',\n",
       " '₹719',\n",
       " '₹664',\n",
       " '₹179',\n",
       " '₹749',\n",
       " '₹1,250',\n",
       " '₹359',\n",
       " '₹459',\n",
       " '₹1,899',\n",
       " '₹590',\n",
       " '₹597',\n",
       " '₹559',\n",
       " '₹2,999',\n",
       " '₹445',\n",
       " '₹275',\n",
       " '₹597',\n",
       " '₹1,999',\n",
       " '₹849',\n",
       " '₹399',\n",
       " '₹369',\n",
       " '₹829',\n",
       " '₹1,049',\n",
       " '₹497',\n",
       " '₹259',\n",
       " '₹276',\n",
       " '₹2,199',\n",
       " '₹1,799',\n",
       " '₹1,118',\n",
       " '₹1,039',\n",
       " '₹458',\n",
       " '₹80',\n",
       " '₹636',\n",
       " '₹479',\n",
       " '₹799',\n",
       " '₹249',\n",
       " '₹719',\n",
       " '₹974',\n",
       " '₹299',\n",
       " '₹199',\n",
       " '₹399',\n",
       " '₹549',\n",
       " '₹959',\n",
       " '₹559',\n",
       " '₹829',\n",
       " '₹829',\n",
       " '₹974',\n",
       " '₹418',\n",
       " '₹319',\n",
       " '₹739',\n",
       " '₹949',\n",
       " '₹811',\n",
       " '₹376',\n",
       " '₹679',\n",
       " '₹1,250',\n",
       " '₹749']"
      ]
     },
     "execution_count": 46,
     "metadata": {},
     "output_type": "execute_result"
    }
   ],
   "source": [
    "price_tag"
   ]
  },
  {
   "cell_type": "code",
   "execution_count": 62,
   "id": "64bceb9d",
   "metadata": {},
   "outputs": [],
   "source": [
    "feature_tag=[]\n",
    "start=0\n",
    "end=3\n",
    "for page in range(start,end):\n",
    "    feature=driver.find_elements(By.XPATH,'/html/body/div/div/div[3]/div[1]/div[2]/div[2]/div/div[1]/div/div/a[1]')\n",
    "    for i in feature:\n",
    "        feature_tag.append(i.text)\n",
    "    next_button=driver.find_element(By.XPATH,'/html/body/div/div/div[3]/div[1]/div[2]/div[12]/div/div/nav/a[12]')\n",
    "    next_button.click()\n",
    "    time.sleep(3)"
   ]
  },
  {
   "cell_type": "code",
   "execution_count": 63,
   "id": "e95f6feb",
   "metadata": {},
   "outputs": [
    {
     "data": {
      "text/plain": [
       "3"
      ]
     },
     "execution_count": 63,
     "metadata": {},
     "output_type": "execute_result"
    }
   ],
   "source": [
    "len(feature_tag)"
   ]
  },
  {
   "cell_type": "code",
   "execution_count": 64,
   "id": "856aef98",
   "metadata": {},
   "outputs": [
    {
     "data": {
      "text/plain": [
       "['Polarized Butterfly Sunglasses (64)',\n",
       " 'Polarized, UV Protection Rectangular Sunglasses (65)',\n",
       " 'Polarized, UV Protection Retro Square Sunglasses (66)']"
      ]
     },
     "execution_count": 64,
     "metadata": {},
     "output_type": "execute_result"
    }
   ],
   "source": [
    "feature_tag"
   ]
  },
  {
   "cell_type": "code",
   "execution_count": 3,
   "id": "901193d5",
   "metadata": {},
   "outputs": [],
   "source": [
    "import selenium\n",
    "import pandas as pd\n",
    "from selenium import webdriver\n",
    "import warnings\n",
    "warnings.filterwarnings(\"ignore\")\n",
    "from selenium.webdriver.common.by import By\n",
    "import time"
   ]
  },
  {
   "cell_type": "code",
   "execution_count": 4,
   "id": "60629eff",
   "metadata": {},
   "outputs": [],
   "source": [
    "driver=webdriver.Chrome()"
   ]
  },
  {
   "cell_type": "code",
   "execution_count": 5,
   "id": "bd353232",
   "metadata": {},
   "outputs": [],
   "source": [
    "driver.get('https://www.flipkart.com/')"
   ]
  },
  {
   "cell_type": "code",
   "execution_count": 16,
   "id": "bffd98bb",
   "metadata": {},
   "outputs": [],
   "source": [
    "product_tags=[]\n",
    "title_tags=driver.find_elements(By.XPATH,'//div[@class=\"_4rR01T\"]')\n",
    "for i in title_tags:\n",
    "    title=i.text\n",
    "    product_tags.append(title)"
   ]
  },
  {
   "cell_type": "code",
   "execution_count": 17,
   "id": "dc91fa3e",
   "metadata": {},
   "outputs": [
    {
     "data": {
      "text/plain": [
       "[<selenium.webdriver.remote.webelement.WebElement (session=\"6b560ef2f8aea026224483dc16da32b6\", element=\"AA863A3F8A4A6E69CD56EEF3DA88F295_element_319\")>,\n",
       " <selenium.webdriver.remote.webelement.WebElement (session=\"6b560ef2f8aea026224483dc16da32b6\", element=\"AA863A3F8A4A6E69CD56EEF3DA88F295_element_484\")>,\n",
       " <selenium.webdriver.remote.webelement.WebElement (session=\"6b560ef2f8aea026224483dc16da32b6\", element=\"AA863A3F8A4A6E69CD56EEF3DA88F295_element_485\")>,\n",
       " <selenium.webdriver.remote.webelement.WebElement (session=\"6b560ef2f8aea026224483dc16da32b6\", element=\"AA863A3F8A4A6E69CD56EEF3DA88F295_element_486\")>,\n",
       " <selenium.webdriver.remote.webelement.WebElement (session=\"6b560ef2f8aea026224483dc16da32b6\", element=\"AA863A3F8A4A6E69CD56EEF3DA88F295_element_487\")>,\n",
       " <selenium.webdriver.remote.webelement.WebElement (session=\"6b560ef2f8aea026224483dc16da32b6\", element=\"AA863A3F8A4A6E69CD56EEF3DA88F295_element_488\")>,\n",
       " <selenium.webdriver.remote.webelement.WebElement (session=\"6b560ef2f8aea026224483dc16da32b6\", element=\"AA863A3F8A4A6E69CD56EEF3DA88F295_element_489\")>,\n",
       " <selenium.webdriver.remote.webelement.WebElement (session=\"6b560ef2f8aea026224483dc16da32b6\", element=\"AA863A3F8A4A6E69CD56EEF3DA88F295_element_490\")>,\n",
       " <selenium.webdriver.remote.webelement.WebElement (session=\"6b560ef2f8aea026224483dc16da32b6\", element=\"AA863A3F8A4A6E69CD56EEF3DA88F295_element_491\")>,\n",
       " <selenium.webdriver.remote.webelement.WebElement (session=\"6b560ef2f8aea026224483dc16da32b6\", element=\"AA863A3F8A4A6E69CD56EEF3DA88F295_element_492\")>,\n",
       " <selenium.webdriver.remote.webelement.WebElement (session=\"6b560ef2f8aea026224483dc16da32b6\", element=\"AA863A3F8A4A6E69CD56EEF3DA88F295_element_493\")>,\n",
       " <selenium.webdriver.remote.webelement.WebElement (session=\"6b560ef2f8aea026224483dc16da32b6\", element=\"AA863A3F8A4A6E69CD56EEF3DA88F295_element_494\")>,\n",
       " <selenium.webdriver.remote.webelement.WebElement (session=\"6b560ef2f8aea026224483dc16da32b6\", element=\"AA863A3F8A4A6E69CD56EEF3DA88F295_element_495\")>,\n",
       " <selenium.webdriver.remote.webelement.WebElement (session=\"6b560ef2f8aea026224483dc16da32b6\", element=\"AA863A3F8A4A6E69CD56EEF3DA88F295_element_496\")>,\n",
       " <selenium.webdriver.remote.webelement.WebElement (session=\"6b560ef2f8aea026224483dc16da32b6\", element=\"AA863A3F8A4A6E69CD56EEF3DA88F295_element_497\")>,\n",
       " <selenium.webdriver.remote.webelement.WebElement (session=\"6b560ef2f8aea026224483dc16da32b6\", element=\"AA863A3F8A4A6E69CD56EEF3DA88F295_element_498\")>,\n",
       " <selenium.webdriver.remote.webelement.WebElement (session=\"6b560ef2f8aea026224483dc16da32b6\", element=\"AA863A3F8A4A6E69CD56EEF3DA88F295_element_499\")>,\n",
       " <selenium.webdriver.remote.webelement.WebElement (session=\"6b560ef2f8aea026224483dc16da32b6\", element=\"AA863A3F8A4A6E69CD56EEF3DA88F295_element_500\")>,\n",
       " <selenium.webdriver.remote.webelement.WebElement (session=\"6b560ef2f8aea026224483dc16da32b6\", element=\"AA863A3F8A4A6E69CD56EEF3DA88F295_element_501\")>,\n",
       " <selenium.webdriver.remote.webelement.WebElement (session=\"6b560ef2f8aea026224483dc16da32b6\", element=\"AA863A3F8A4A6E69CD56EEF3DA88F295_element_502\")>,\n",
       " <selenium.webdriver.remote.webelement.WebElement (session=\"6b560ef2f8aea026224483dc16da32b6\", element=\"AA863A3F8A4A6E69CD56EEF3DA88F295_element_503\")>,\n",
       " <selenium.webdriver.remote.webelement.WebElement (session=\"6b560ef2f8aea026224483dc16da32b6\", element=\"AA863A3F8A4A6E69CD56EEF3DA88F295_element_504\")>,\n",
       " <selenium.webdriver.remote.webelement.WebElement (session=\"6b560ef2f8aea026224483dc16da32b6\", element=\"AA863A3F8A4A6E69CD56EEF3DA88F295_element_505\")>,\n",
       " <selenium.webdriver.remote.webelement.WebElement (session=\"6b560ef2f8aea026224483dc16da32b6\", element=\"AA863A3F8A4A6E69CD56EEF3DA88F295_element_506\")>]"
      ]
     },
     "execution_count": 17,
     "metadata": {},
     "output_type": "execute_result"
    }
   ],
   "source": [
    "title_tags"
   ]
  },
  {
   "cell_type": "code",
   "execution_count": 18,
   "id": "b185e714",
   "metadata": {},
   "outputs": [],
   "source": [
    "product_tag=[]\n",
    "title_tags=driver.find_elements(By.XPATH,'/html/body/div/div/div[3]/div[1]/div[2]/div[2]/div/div/div/a/div[3]/div[1]/div[1]')\n",
    "for i in title_tags:\n",
    "    title=i.text\n",
    "    product_tag.append(title)"
   ]
  },
  {
   "cell_type": "code",
   "execution_count": 19,
   "id": "d1b52065",
   "metadata": {},
   "outputs": [
    {
     "data": {
      "text/plain": [
       "['Apple iPhone 15 (Black, 128 GB)']"
      ]
     },
     "execution_count": 19,
     "metadata": {},
     "output_type": "execute_result"
    }
   ],
   "source": [
    "product_tag"
   ]
  },
  {
   "cell_type": "code",
   "execution_count": 22,
   "id": "7136cfe4",
   "metadata": {},
   "outputs": [],
   "source": [
    "feature_tag=[]\n",
    "start=0\n",
    "end=3\n",
    "for page in range(start,end):\n",
    "    feature=driver.find_elements(By.XPATH,'/html/body/div/div/div[3]/div[1]/div[2]/div[2]/div/div/div/a/div[3]/div[1]/div[1]')\n",
    "    for i in feature:\n",
    "        feature_tag.append(i.text)\n",
    "    next_button=driver.find_element(By.XPATH,'//a[@class=\"_1LKTO3\"]')\n",
    "    next_button.click()\n",
    "    time.sleep(3)"
   ]
  },
  {
   "cell_type": "code",
   "execution_count": 23,
   "id": "dbe29943",
   "metadata": {},
   "outputs": [
    {
     "data": {
      "text/plain": [
       "2"
      ]
     },
     "execution_count": 23,
     "metadata": {},
     "output_type": "execute_result"
    }
   ],
   "source": [
    "len(feature_tag)"
   ]
  },
  {
   "cell_type": "code",
   "execution_count": 24,
   "id": "7c644d4a",
   "metadata": {},
   "outputs": [
    {
     "data": {
      "text/plain": [
       "['Apple iPhone 15 (Black, 128 GB)', 'Apple iPhone 15 (Black, 128 GB)']"
      ]
     },
     "execution_count": 24,
     "metadata": {},
     "output_type": "execute_result"
    }
   ],
   "source": [
    "feature_tag"
   ]
  },
  {
   "cell_type": "code",
   "execution_count": 25,
   "id": "53f6e8ab",
   "metadata": {},
   "outputs": [],
   "source": [
    "product_rating=[]\n",
    "title_tags=driver.find_elements(By.XPATH,'/html/body/div/div/div[3]/div[1]/div[2]/div[2]/div/div/div/a/div[2]/div[1]/div[2]/span[1]/div')\n",
    "for i in title_tags:\n",
    "    title=i.text\n",
    "    product_rating.append(title)"
   ]
  },
  {
   "cell_type": "code",
   "execution_count": 26,
   "id": "42baa2ec",
   "metadata": {},
   "outputs": [
    {
     "data": {
      "text/plain": [
       "['4.6']"
      ]
     },
     "execution_count": 26,
     "metadata": {},
     "output_type": "execute_result"
    }
   ],
   "source": [
    "product_rating"
   ]
  },
  {
   "cell_type": "code",
   "execution_count": null,
   "id": "dc5e354d",
   "metadata": {},
   "outputs": [],
   "source": []
  },
  {
   "cell_type": "code",
   "execution_count": 28,
   "id": "3201b6cb",
   "metadata": {},
   "outputs": [
    {
     "data": {
      "text/plain": [
       "['It is very fast, buttery touch interaction and intuitive software. Great phone again from Apple.']"
      ]
     },
     "execution_count": 28,
     "metadata": {},
     "output_type": "execute_result"
    }
   ],
   "source": [
    "product_review"
   ]
  },
  {
   "cell_type": "code",
   "execution_count": null,
   "id": "2e5c2610",
   "metadata": {},
   "outputs": [],
   "source": []
  },
  {
   "cell_type": "code",
   "execution_count": 29,
   "id": "80334665",
   "metadata": {},
   "outputs": [],
   "source": [
    "from selenium.common.exceptions import NoSuchElementException"
   ]
  },
  {
   "cell_type": "code",
   "execution_count": 38,
   "id": "f0c568f0",
   "metadata": {},
   "outputs": [],
   "source": [
    "footwear_tag=[]\n",
    "start=0\n",
    "end=3\n",
    "for page in range(start,end):\n",
    "    footwear=driver.find_elements(By.XPATH,'//div[@class=\"_2WkVRV\"]')\n",
    "    for i in feature:\n",
    "        footwear_tag.append(i.text)\n",
    "    next_button=driver.find_element(By.XPATH,'//a[@class=\"_1LKTO3\"]')\n",
    "    next_button.click()\n",
    "    time.sleep(3)"
   ]
  },
  {
   "cell_type": "code",
   "execution_count": 43,
   "id": "b2f77e8f",
   "metadata": {},
   "outputs": [],
   "source": [
    "sneaker_tag=[]\n",
    "title_tags=driver.find_elements(By.XPATH,'//div[@class=\"_2WkVRV\"]')\n",
    "for i in title_tags:\n",
    "    title=i.text\n",
    "    sneaker_tag.append(title)"
   ]
  },
  {
   "cell_type": "code",
   "execution_count": 44,
   "id": "133246de",
   "metadata": {},
   "outputs": [
    {
     "data": {
      "text/plain": [
       "['Golazo',\n",
       " 'BERSACHE',\n",
       " 'ATOM',\n",
       " 'HRX by Hrithik Roshan',\n",
       " 'WHITE WALKERS',\n",
       " 'asian',\n",
       " 'KILLER',\n",
       " 'asian',\n",
       " 'HRX by Hrithik Roshan',\n",
       " 'HOTSTYLE',\n",
       " 'SCETTRO',\n",
       " 'asian',\n",
       " 'aadi',\n",
       " 'RED TAPE',\n",
       " 'PUMA',\n",
       " 'HRX by Hrithik Roshan',\n",
       " 'CANTABIL',\n",
       " 'Kraasa',\n",
       " 'U.S. POLO ASSN.',\n",
       " 'WHITE WALKERS',\n",
       " 'BIG FOX',\n",
       " 'BIG FOX',\n",
       " 'RED TAPE',\n",
       " 'MEGPAR',\n",
       " 'AMICO',\n",
       " 'Skechers',\n",
       " 'CANTABIL',\n",
       " 'BIG FOX',\n",
       " 'BRUTON',\n",
       " 'RED TAPE',\n",
       " 'Michael Angelo',\n",
       " 'BIG FOX',\n",
       " 'PUMA',\n",
       " 'CAMPUS',\n",
       " 'Labbin',\n",
       " 'PUMA',\n",
       " 'BIG FOX',\n",
       " 'Abros',\n",
       " 'HOTSTYLE',\n",
       " 'PUMA']"
      ]
     },
     "execution_count": 44,
     "metadata": {},
     "output_type": "execute_result"
    }
   ],
   "source": [
    "sneaker_tag"
   ]
  },
  {
   "cell_type": "code",
   "execution_count": 46,
   "id": "e633816f",
   "metadata": {},
   "outputs": [],
   "source": [
    "footwear_tag=[]\n",
    "start=0\n",
    "end=3\n",
    "for page in range(start,end):\n",
    "    footwear=driver.find_elements(By.XPATH,'//div[@class=\"_2WkVRV\"]')\n",
    "    for i in footwear:\n",
    "        footwear_tag.append(i.text)\n",
    "    next_button=driver.find_element(By.XPATH,'//a[@class=\"_1LKTO3\"]')\n",
    "    next_button.click()\n",
    "    time.sleep(3)"
   ]
  },
  {
   "cell_type": "code",
   "execution_count": 47,
   "id": "2545047a",
   "metadata": {},
   "outputs": [
    {
     "data": {
      "text/plain": [
       "120"
      ]
     },
     "execution_count": 47,
     "metadata": {},
     "output_type": "execute_result"
    }
   ],
   "source": [
    "len(footwear_tag)"
   ]
  },
  {
   "cell_type": "code",
   "execution_count": 48,
   "id": "fa7f3966",
   "metadata": {},
   "outputs": [
    {
     "data": {
      "text/plain": [
       "['Golazo',\n",
       " 'BERSACHE',\n",
       " 'ATOM',\n",
       " 'HRX by Hrithik Roshan',\n",
       " 'WHITE WALKERS',\n",
       " 'asian',\n",
       " 'KILLER',\n",
       " 'asian',\n",
       " 'HRX by Hrithik Roshan',\n",
       " 'HOTSTYLE',\n",
       " 'SCETTRO',\n",
       " 'asian',\n",
       " 'aadi',\n",
       " 'RED TAPE',\n",
       " 'PUMA',\n",
       " 'HRX by Hrithik Roshan',\n",
       " 'CANTABIL',\n",
       " 'Kraasa',\n",
       " 'U.S. POLO ASSN.',\n",
       " 'WHITE WALKERS',\n",
       " 'BIG FOX',\n",
       " 'BIG FOX',\n",
       " 'RED TAPE',\n",
       " 'MEGPAR',\n",
       " 'AMICO',\n",
       " 'Skechers',\n",
       " 'CANTABIL',\n",
       " 'BIG FOX',\n",
       " 'BRUTON',\n",
       " 'RED TAPE',\n",
       " 'Michael Angelo',\n",
       " 'BIG FOX',\n",
       " 'PUMA',\n",
       " 'CAMPUS',\n",
       " 'Labbin',\n",
       " 'PUMA',\n",
       " 'BIG FOX',\n",
       " 'Abros',\n",
       " 'HOTSTYLE',\n",
       " 'PUMA',\n",
       " 'BRUTON',\n",
       " 'BIRDE',\n",
       " 'URBANBOX',\n",
       " 'BRUTON',\n",
       " 'Deals4you',\n",
       " 'aadi',\n",
       " 'aadi',\n",
       " 'BRUTON',\n",
       " 'Redystar',\n",
       " 'Robbie jones',\n",
       " 'BRUTON',\n",
       " 'BRUTON',\n",
       " 'Krors',\n",
       " 'aadi',\n",
       " 'asian',\n",
       " 'PUMA',\n",
       " 'Plaeto',\n",
       " 'Plaeto',\n",
       " 'streetLOOK',\n",
       " 'RED TAPE',\n",
       " 'ATOM',\n",
       " 'Plaeto',\n",
       " 'RED TAPE',\n",
       " 'asian',\n",
       " 'ATOM',\n",
       " 'HOTSTYLE',\n",
       " 'Plaeto',\n",
       " 'ATOM',\n",
       " 'Footox',\n",
       " 'CCICACO',\n",
       " 'MEGPAR',\n",
       " 'BRUTON',\n",
       " 'Ego by NS',\n",
       " 'El Paso',\n",
       " 'streetLOOK',\n",
       " 'CAMPUS',\n",
       " \"K' Footlance\",\n",
       " 'ATOM',\n",
       " 'CAMPUS',\n",
       " 'ATOM',\n",
       " 'Golazo',\n",
       " 'Field Care',\n",
       " 'ATOM',\n",
       " 'WHITE WALKERS',\n",
       " 'HRX by Hrithik Roshan',\n",
       " 'asian',\n",
       " 'BERSACHE',\n",
       " 'KILLER',\n",
       " 'HRX by Hrithik Roshan',\n",
       " 'PUMA',\n",
       " 'BIG FOX',\n",
       " 'asian',\n",
       " 'RED TAPE',\n",
       " 'aadi',\n",
       " 'HOTSTYLE',\n",
       " 'HRX by Hrithik Roshan',\n",
       " 'asian',\n",
       " 'Kraasa',\n",
       " 'WHITE WALKERS',\n",
       " 'MEGPAR',\n",
       " 'CANTABIL',\n",
       " 'BIG FOX',\n",
       " 'RED TAPE',\n",
       " 'U.S. POLO ASSN.',\n",
       " 'Skechers',\n",
       " 'AMICO',\n",
       " 'Field Care',\n",
       " 'BIG FOX',\n",
       " 'RED TAPE',\n",
       " 'PUMA',\n",
       " 'CANTABIL',\n",
       " 'Michael Angelo',\n",
       " 'Labbin',\n",
       " 'BRUTON',\n",
       " 'PUMA',\n",
       " 'Shozie',\n",
       " 'BIG FOX',\n",
       " 'BIG FOX',\n",
       " 'HOTSTYLE',\n",
       " 'PUMA']"
      ]
     },
     "execution_count": 48,
     "metadata": {},
     "output_type": "execute_result"
    }
   ],
   "source": [
    "footwear_tag"
   ]
  },
  {
   "cell_type": "code",
   "execution_count": 50,
   "id": "7daaa44e",
   "metadata": {},
   "outputs": [],
   "source": [
    "price_tag=[]\n",
    "start=0\n",
    "end=3\n",
    "for page in range(start,end):\n",
    "    price=driver.find_elements(By.XPATH,'//div[@class=\"_30jeq3\"]')\n",
    "    for i in price:\n",
    "        price_tag.append(i.text)\n",
    "    next_button=driver.find_element(By.XPATH,'//a[@class=\"_1LKTO3\"]')\n",
    "    next_button.click()\n",
    "    time.sleep(3)"
   ]
  },
  {
   "cell_type": "code",
   "execution_count": 51,
   "id": "91f41e23",
   "metadata": {},
   "outputs": [
    {
     "data": {
      "text/plain": [
       "120"
      ]
     },
     "execution_count": 51,
     "metadata": {},
     "output_type": "execute_result"
    }
   ],
   "source": [
    "len(price_tag)"
   ]
  },
  {
   "cell_type": "code",
   "execution_count": 52,
   "id": "da67d668",
   "metadata": {},
   "outputs": [
    {
     "data": {
      "text/plain": [
       "['₹537',\n",
       " '₹521',\n",
       " '₹299',\n",
       " '₹299',\n",
       " '₹399',\n",
       " '₹386',\n",
       " '₹249',\n",
       " '₹537',\n",
       " '₹599',\n",
       " '₹449',\n",
       " '₹537',\n",
       " '₹537',\n",
       " '₹528',\n",
       " '₹299',\n",
       " '₹1,039',\n",
       " '₹1,769',\n",
       " '₹2,299',\n",
       " '₹2,299',\n",
       " '₹599',\n",
       " '₹1,339',\n",
       " '₹1,339',\n",
       " '₹1,999',\n",
       " '₹1,619',\n",
       " '₹624',\n",
       " '₹1,679',\n",
       " '₹292',\n",
       " '₹1,999',\n",
       " '₹1,088',\n",
       " '₹317',\n",
       " '₹415',\n",
       " '₹495',\n",
       " '₹537',\n",
       " '₹899',\n",
       " '₹319',\n",
       " '₹494',\n",
       " '₹1,227',\n",
       " '₹497',\n",
       " '₹1,239',\n",
       " '₹1,095',\n",
       " '₹1,088',\n",
       " '₹537',\n",
       " '₹521',\n",
       " '₹1,088',\n",
       " '₹469',\n",
       " '₹829',\n",
       " '₹779',\n",
       " '₹249',\n",
       " '₹537',\n",
       " '₹1,037',\n",
       " '₹2,070',\n",
       " '₹537',\n",
       " '₹537',\n",
       " '₹2,069',\n",
       " '₹349',\n",
       " '₹297',\n",
       " '₹1,011',\n",
       " '₹2,299',\n",
       " '₹2,299',\n",
       " '₹469',\n",
       " '₹399',\n",
       " '₹1,339',\n",
       " '₹1,999',\n",
       " '₹1,389',\n",
       " '₹1,350',\n",
       " '₹2,899',\n",
       " '₹439',\n",
       " '₹1,999',\n",
       " '₹1,088',\n",
       " '₹1,709',\n",
       " '₹2,700',\n",
       " '₹495',\n",
       " '₹497',\n",
       " '₹599',\n",
       " '₹537',\n",
       " '₹2,300',\n",
       " '₹399',\n",
       " '₹537',\n",
       " '₹1,239',\n",
       " '₹299',\n",
       " '₹1,900',\n",
       " '₹537',\n",
       " '₹521',\n",
       " '₹299',\n",
       " '₹299',\n",
       " '₹399',\n",
       " '₹386',\n",
       " '₹249',\n",
       " '₹537',\n",
       " '₹599',\n",
       " '₹449',\n",
       " '₹537',\n",
       " '₹537',\n",
       " '₹528',\n",
       " '₹299',\n",
       " '₹1,039',\n",
       " '₹1,769',\n",
       " '₹2,299',\n",
       " '₹2,299',\n",
       " '₹494',\n",
       " '₹1,619',\n",
       " '₹1,339',\n",
       " '₹1,999',\n",
       " '₹624',\n",
       " '₹1,339',\n",
       " '₹1,679',\n",
       " '₹292',\n",
       " '₹1,999',\n",
       " '₹1,088',\n",
       " '₹317',\n",
       " '₹899',\n",
       " '₹495',\n",
       " '₹537',\n",
       " '₹415',\n",
       " '₹319',\n",
       " '₹599',\n",
       " '₹1,227',\n",
       " '₹497',\n",
       " '₹1,239',\n",
       " '₹1,095',\n",
       " '₹469']"
      ]
     },
     "execution_count": 52,
     "metadata": {},
     "output_type": "execute_result"
    }
   ],
   "source": [
    "price_tag"
   ]
  },
  {
   "cell_type": "code",
   "execution_count": 56,
   "id": "e75a4632",
   "metadata": {},
   "outputs": [],
   "source": [
    "productdescription_tag=[]\n",
    "start=0\n",
    "end=3\n",
    "for page in range(start,end):\n",
    "    productdescription=driver.find_elements(By.XPATH,'/html/body/div/div/div[3]/div[1]/div[2]/div[2]/div/div[1]/div/div/a[1]')\n",
    "    for i in productdescription:\n",
    "        productdescription_tag.append(i.text)\n",
    "    next_button=driver.find_element(By.XPATH,'//a[@class=\"_1LKTO3\"]')\n",
    "    next_button.click()\n",
    "    time.sleep(3)"
   ]
  },
  {
   "cell_type": "code",
   "execution_count": 57,
   "id": "73847f4f",
   "metadata": {},
   "outputs": [
    {
     "data": {
      "text/plain": [
       "3"
      ]
     },
     "execution_count": 57,
     "metadata": {},
     "output_type": "execute_result"
    }
   ],
   "source": [
    "len(productdescription_tag)"
   ]
  },
  {
   "cell_type": "code",
   "execution_count": 58,
   "id": "b73896e5",
   "metadata": {},
   "outputs": [
    {
     "data": {
      "text/plain": [
       "['Combo Pack Of 2 Casual Shoes Sneakers For Men',\n",
       " 'Sneakers For Men (White) Sneakers For Men',\n",
       " 'Combo Pack Of 2 Casual Shoes Sneakers For Men']"
      ]
     },
     "execution_count": 58,
     "metadata": {},
     "output_type": "execute_result"
    }
   ],
   "source": [
    "productdescription_tag"
   ]
  },
  {
   "cell_type": "code",
   "execution_count": 59,
   "id": "f1bd390d",
   "metadata": {},
   "outputs": [],
   "source": [
    "driver.get('https://www.amazon.in')"
   ]
  },
  {
   "cell_type": "code",
   "execution_count": 60,
   "id": "4bcea512",
   "metadata": {},
   "outputs": [],
   "source": [
    "search=driver.find_element(By.XPATH,'/html/body/div[1]/header/div/div[1]/div[2]/div/form/div[2]/div[1]/input')\n",
    "search.send_keys(\"Laptop\")"
   ]
  },
  {
   "cell_type": "code",
   "execution_count": 61,
   "id": "0155e1d8",
   "metadata": {},
   "outputs": [],
   "source": [
    "title_tag=[]\n",
    "title_tags=driver.find_elements(By.XPATH,'//span[@class=\"a-size-medium a-color-base\"]')\n",
    "for i in title_tags:\n",
    "    title=i.text\n",
    "    title_tag.append(title)"
   ]
  },
  {
   "cell_type": "code",
   "execution_count": 63,
   "id": "e00f4169",
   "metadata": {},
   "outputs": [
    {
     "data": {
      "text/plain": [
       "['Lenovo',\n",
       " 'Samsung',\n",
       " 'Acer',\n",
       " 'HP',\n",
       " 'HP',\n",
       " 'Lenovo',\n",
       " 'Lenovo',\n",
       " 'ASUS',\n",
       " 'HP',\n",
       " 'HP',\n",
       " 'Dell',\n",
       " 'ZEBRONICS',\n",
       " 'Acer',\n",
       " 'HP',\n",
       " 'MSI',\n",
       " 'Acer',\n",
       " 'Acer',\n",
       " 'Dell',\n",
       " 'HP',\n",
       " 'HP',\n",
       " 'Lenovo',\n",
       " 'Samsung',\n",
       " 'HP',\n",
       " 'Lenovo',\n",
       " 'Acer',\n",
       " 'HP',\n",
       " 'ASUS',\n",
       " 'ASUS',\n",
       " 'Acer',\n",
       " 'Lenovo']"
      ]
     },
     "execution_count": 63,
     "metadata": {},
     "output_type": "execute_result"
    }
   ],
   "source": [
    "title_tag"
   ]
  },
  {
   "cell_type": "code",
   "execution_count": 76,
   "id": "ee2b8a6e",
   "metadata": {},
   "outputs": [],
   "source": [
    "rating_tag=[]\n",
    "title_tags=driver.find_elements(By.XPATH,'//i[@class=\"a-icon a-icon-star-small a-star-small-4 aok-align-bottom\"]')\n",
    "for i in title_tags:\n",
    "    title=i.text\n",
    "    rating_tag.append(title)"
   ]
  },
  {
   "cell_type": "code",
   "execution_count": 77,
   "id": "d3100be6",
   "metadata": {},
   "outputs": [
    {
     "data": {
      "text/plain": [
       "['', '', '', '', '', '', '', '', '', '', '', '', '', '', '']"
      ]
     },
     "execution_count": 77,
     "metadata": {},
     "output_type": "execute_result"
    }
   ],
   "source": [
    "rating_tag"
   ]
  },
  {
   "cell_type": "code",
   "execution_count": 78,
   "id": "a44472a7",
   "metadata": {},
   "outputs": [],
   "source": [
    "price_tag=[]\n",
    "title_tags=driver.find_elements(By.XPATH,'//span[@class=\"a-price-whole\"]')\n",
    "for i in title_tags:\n",
    "    title=i.text\n",
    "    price_tag.append(title)"
   ]
  },
  {
   "cell_type": "code",
   "execution_count": 79,
   "id": "7c190386",
   "metadata": {},
   "outputs": [
    {
     "data": {
      "text/plain": [
       "['60,190',\n",
       " '81,990',\n",
       " '54,990',\n",
       " '1,10,990',\n",
       " '77,990',\n",
       " '49,990',\n",
       " '60,190',\n",
       " '64,990',\n",
       " '81,990',\n",
       " '86,490',\n",
       " '98,990',\n",
       " '52,990',\n",
       " '69,990',\n",
       " '78,990',\n",
       " '54,990',\n",
       " '69,990',\n",
       " '1,19,990',\n",
       " '87,490',\n",
       " '89,605',\n",
       " '97,990',\n",
       " '68,990',\n",
       " '89,990',\n",
       " '87,990',\n",
       " '93,990',\n",
       " '69,990',\n",
       " '2,46,787',\n",
       " '85,990',\n",
       " '77,990',\n",
       " '1,14,990',\n",
       " '1,19,990']"
      ]
     },
     "execution_count": 79,
     "metadata": {},
     "output_type": "execute_result"
    }
   ],
   "source": [
    "price_tag"
   ]
  },
  {
   "cell_type": "code",
   "execution_count": 80,
   "id": "f12525be",
   "metadata": {},
   "outputs": [],
   "source": [
    "driver.get(\"https://www.azquotes.com/\")"
   ]
  },
  {
   "cell_type": "code",
   "execution_count": 83,
   "id": "62ae350d",
   "metadata": {},
   "outputs": [],
   "source": [
    "Author_tag=[]\n",
    "title_tags=driver.find_elements(By.XPATH,'/html/body/div[1]/div[2]/div/div/div/div[1]/div/section/ul/li[1]')\n",
    "for i in title_tags:\n",
    "    title=i.text\n",
    "    Author_tag.append(title)"
   ]
  },
  {
   "cell_type": "code",
   "execution_count": 84,
   "id": "0b8d3da8",
   "metadata": {},
   "outputs": [
    {
     "data": {
      "text/plain": [
       "['A Authors\\nAbdul Kalam\\nAbraham Lincoln\\nAbu Bakr\\nAl-Ghazali\\nAlan Cohen\\nAlan Watts\\nAlbert Camus\\nAlbert Einstein\\nAlbert Schweitzer\\nAldous Huxley\\nAlexander Graham Bell\\nAlice Hoffman\\nAlice Walker\\nAnais Nin\\nAnn Landers\\nAnne Frank\\nAristotle\\nArthur Schopenhauer\\nAudrey Hepburn\\nAyn Rand\\nMore\\nB Authors\\nBabe Ruth\\nBarack Obama\\nBear Bryant\\nBenjamin Disraeli\\nBenjamin Franklin\\nBertrand Russell\\nBeth Moore\\nBill Cosby\\nBill Gates\\nBilly Graham\\nBlaise Pascal\\nBob Marley\\nBooker T. Washington\\nBrennan Manning\\nBrené Brown\\nBrian Tracy\\nBruce Lee\\nBruce Springsteen\\nBryant H. McGill\\nByron Katie\\nMore\\nC Authors\\nC. S. Lewis\\nCalvin Coolidge\\nCarl Jung\\nCarl Sagan\\nCarol Burnett\\nCaroline Myss\\nCharles Bukowski\\nCharles Dickens\\nCharles Kettering\\nCharles Spurgeon\\nCharlie Daniels\\nCharlotte Bronte\\nCheryl Strayed\\nChesty Puller\\nChuck Palahniuk\\nClint Eastwood\\nCoco Chanel\\nColin Powell\\nConfucius\\nCorrie Ten Boom\\nMore\\nD Authors\\nDalai Lama\\nDale Carnegie\\nDallas Willard\\nDan Millman\\nDaniel Radcliffe\\nDavid Jeremiah\\nDean Karnazes\\nDeepak Chopra\\nDejan Stojanovic\\nDemi Lovato\\nDenis Waitley\\nDesmond Tutu\\nDieter F. Uchtdorf\\nDietrich Bonhoeffer\\nDolly Parton\\nDouglas MacArthur\\nDr. Seuss\\nDrake\\nDwight D. Eisenhower\\nDwight L. Moody\\nMore\\nE Authors\\nE. M. Forster\\nEarl Nightingale\\nEckhart Tolle\\nEddie Vedder\\nEdgar Allan Poe\\nEdwin Louis Cole\\nElbert Hubbard\\nEleanor Roosevelt\\nElie Wiesel\\nElisabeth Elliot\\nElisabeth Kubler-Ross\\nElizabeth Barrett Browning\\nElizabeth Gilbert\\nEllen DeGeneres\\nEmma Watson\\nEpictetus\\nErica Jong\\nErich Fromm\\nErnest Hemingway\\nEugene H. Peterson\\nMore\\nF Authors\\nF. Scott Fitzgerald\\nFarrah Gray\\nFawad Afzal Khan\\nFerdinand de Saussure\\nFlorence Nightingale\\nFrances Hodgson Burnett\\nFrancis Bacon\\nFrancis Chan\\nFrancis of Assisi\\nFrank A. Clark\\nFrank Zappa\\nFranklin D. Roosevelt\\nFranz Kafka\\nFred Rogers\\nFrederick Buechner\\nFrederick Douglass\\nFrida Kahlo\\nFriedrich Nietzsche\\nFulton J. Sheen\\nFyodor Dostoevsky\\nMore\\nG Authors\\nGabourey Sidibe\\nGabriel Garcia Marquez\\nGary Zukav\\nGeorge A. Sheehan\\nGeorge Bernard Shaw\\nGeorge Carlin\\nGeorge Eliot\\nGeorge Mason\\nGeorge Orwell\\nGeorge S. Patton\\nGeorge W. Bush\\nGeorge Washington\\nGeorge Washington Carver\\nGilbert K. Chesterton\\nGloria Steinem\\nGolda Meir\\nGordie Howe\\nGordon B. Hinckley\\nGroucho Marx\\nGuy Finley\\nMore\\nH Authors\\nH. G. Wells\\nH. Jackson Brown, Jr.\\nH. L. Mencken\\nHaruki Murakami\\nHarvey Mackay\\nHelen Keller\\nHelen Steiner Rice\\nHenri Nouwen\\nHenry David Thoreau\\nHenry Ford\\nHenry Miller\\nHenry Wadsworth Longfellow\\nHenry Ward Beecher\\nHermann Hesse\\nHillary Clinton\\nHippocrates\\nHonore de Balzac\\nHorace\\nHoward Zinn\\nHunter S. Thompson\\nMore\\nI Authors\\nIbn Hazm\\nIbn Qayyim Al-Jawziyya\\nIbn Taymiyyah\\nIce Cube\\nIgnatius of Antioch\\nImelda Marcos\\nImmanuel Kant\\nIndira Gandhi\\nIndra Devi\\nIngrid Bergman\\nIris Murdoch\\nIrving Berlin\\nIrving Langmuir\\nIrwin Corey\\nIsaac Asimov\\nIsaac Bashevis Singer\\nIsaac Newton\\nIsabel Allende\\nIvanka Trump\\nIyanla Vanzant\\nMore']"
      ]
     },
     "execution_count": 84,
     "metadata": {},
     "output_type": "execute_result"
    }
   ],
   "source": [
    "Author_tag"
   ]
  },
  {
   "cell_type": "code",
   "execution_count": 104,
   "id": "c63a5eb9",
   "metadata": {},
   "outputs": [],
   "source": [
    "from selenium import webdriver\n",
    "import time\n",
    "from selenium.common.exceptions import NoSuchElementException\n",
    "import warnings\n",
    "warnings.filterwarnings(\"ignore\")\n",
    "from selenium.webdriver.common.by import By"
   ]
  },
  {
   "cell_type": "code",
   "execution_count": 112,
   "id": "27cbda72",
   "metadata": {},
   "outputs": [
    {
     "ename": "NoSuchElementException",
     "evalue": "Message: no such element: Unable to locate element: {\"method\":\"xpath\",\"selector\":\"//li[@class=\"next\"]\"}\n  (Session info: chrome=120.0.6099.225); For documentation on this error, please visit: https://www.selenium.dev/documentation/webdriver/troubleshooting/errors#no-such-element-exception\nStacktrace:\n\tGetHandleVerifier [0x00007FF7DE8F2142+3514994]\n\t(No symbol) [0x00007FF7DE510CE2]\n\t(No symbol) [0x00007FF7DE3B76AA]\n\t(No symbol) [0x00007FF7DE401860]\n\t(No symbol) [0x00007FF7DE40197C]\n\t(No symbol) [0x00007FF7DE444EE7]\n\t(No symbol) [0x00007FF7DE42602F]\n\t(No symbol) [0x00007FF7DE4428F6]\n\t(No symbol) [0x00007FF7DE425D93]\n\t(No symbol) [0x00007FF7DE3F4BDC]\n\t(No symbol) [0x00007FF7DE3F5C64]\n\tGetHandleVerifier [0x00007FF7DE91E16B+3695259]\n\tGetHandleVerifier [0x00007FF7DE976737+4057191]\n\tGetHandleVerifier [0x00007FF7DE96E4E3+4023827]\n\tGetHandleVerifier [0x00007FF7DE6404F9+689705]\n\t(No symbol) [0x00007FF7DE51C048]\n\t(No symbol) [0x00007FF7DE518044]\n\t(No symbol) [0x00007FF7DE5181C9]\n\t(No symbol) [0x00007FF7DE5088C4]\n\tBaseThreadInitThunk [0x00007FFC79527344+20]\n\tRtlUserThreadStart [0x00007FFC79CA26B1+33]\n",
     "output_type": "error",
     "traceback": [
      "\u001b[1;31m---------------------------------------------------------------------------\u001b[0m",
      "\u001b[1;31mNoSuchElementException\u001b[0m                    Traceback (most recent call last)",
      "Cell \u001b[1;32mIn[112], line 8\u001b[0m\n\u001b[0;32m      6\u001b[0m \u001b[38;5;28;01mfor\u001b[39;00m i \u001b[38;5;129;01min\u001b[39;00m quotes:\n\u001b[0;32m      7\u001b[0m     quotes_tag\u001b[38;5;241m.\u001b[39mappend(i\u001b[38;5;241m.\u001b[39mtext)\n\u001b[1;32m----> 8\u001b[0m next_button\u001b[38;5;241m=\u001b[39m\u001b[43mdriver\u001b[49m\u001b[38;5;241;43m.\u001b[39;49m\u001b[43mfind_element\u001b[49m\u001b[43m(\u001b[49m\u001b[43mBy\u001b[49m\u001b[38;5;241;43m.\u001b[39;49m\u001b[43mXPATH\u001b[49m\u001b[43m,\u001b[49m\u001b[38;5;124;43m'\u001b[39;49m\u001b[38;5;124;43m//li[@class=\u001b[39;49m\u001b[38;5;124;43m\"\u001b[39;49m\u001b[38;5;124;43mnext\u001b[39;49m\u001b[38;5;124;43m\"\u001b[39;49m\u001b[38;5;124;43m]\u001b[39;49m\u001b[38;5;124;43m'\u001b[39;49m\u001b[43m)\u001b[49m\n\u001b[0;32m      9\u001b[0m next_button\u001b[38;5;241m.\u001b[39mclick()\n\u001b[0;32m     10\u001b[0m time\u001b[38;5;241m.\u001b[39msleep(\u001b[38;5;241m3\u001b[39m)\n",
      "File \u001b[1;32m~\\AppData\\Roaming\\Python\\Python310\\site-packages\\selenium\\webdriver\\remote\\webdriver.py:742\u001b[0m, in \u001b[0;36mWebDriver.find_element\u001b[1;34m(self, by, value)\u001b[0m\n\u001b[0;32m    739\u001b[0m     by \u001b[38;5;241m=\u001b[39m By\u001b[38;5;241m.\u001b[39mCSS_SELECTOR\n\u001b[0;32m    740\u001b[0m     value \u001b[38;5;241m=\u001b[39m \u001b[38;5;124mf\u001b[39m\u001b[38;5;124m'\u001b[39m\u001b[38;5;124m[name=\u001b[39m\u001b[38;5;124m\"\u001b[39m\u001b[38;5;132;01m{\u001b[39;00mvalue\u001b[38;5;132;01m}\u001b[39;00m\u001b[38;5;124m\"\u001b[39m\u001b[38;5;124m]\u001b[39m\u001b[38;5;124m'\u001b[39m\n\u001b[1;32m--> 742\u001b[0m \u001b[38;5;28;01mreturn\u001b[39;00m \u001b[38;5;28;43mself\u001b[39;49m\u001b[38;5;241;43m.\u001b[39;49m\u001b[43mexecute\u001b[49m\u001b[43m(\u001b[49m\u001b[43mCommand\u001b[49m\u001b[38;5;241;43m.\u001b[39;49m\u001b[43mFIND_ELEMENT\u001b[49m\u001b[43m,\u001b[49m\u001b[43m \u001b[49m\u001b[43m{\u001b[49m\u001b[38;5;124;43m\"\u001b[39;49m\u001b[38;5;124;43musing\u001b[39;49m\u001b[38;5;124;43m\"\u001b[39;49m\u001b[43m:\u001b[49m\u001b[43m \u001b[49m\u001b[43mby\u001b[49m\u001b[43m,\u001b[49m\u001b[43m \u001b[49m\u001b[38;5;124;43m\"\u001b[39;49m\u001b[38;5;124;43mvalue\u001b[39;49m\u001b[38;5;124;43m\"\u001b[39;49m\u001b[43m:\u001b[49m\u001b[43m \u001b[49m\u001b[43mvalue\u001b[49m\u001b[43m}\u001b[49m\u001b[43m)\u001b[49m[\u001b[38;5;124m\"\u001b[39m\u001b[38;5;124mvalue\u001b[39m\u001b[38;5;124m\"\u001b[39m]\n",
      "File \u001b[1;32m~\\AppData\\Roaming\\Python\\Python310\\site-packages\\selenium\\webdriver\\remote\\webdriver.py:348\u001b[0m, in \u001b[0;36mWebDriver.execute\u001b[1;34m(self, driver_command, params)\u001b[0m\n\u001b[0;32m    346\u001b[0m response \u001b[38;5;241m=\u001b[39m \u001b[38;5;28mself\u001b[39m\u001b[38;5;241m.\u001b[39mcommand_executor\u001b[38;5;241m.\u001b[39mexecute(driver_command, params)\n\u001b[0;32m    347\u001b[0m \u001b[38;5;28;01mif\u001b[39;00m response:\n\u001b[1;32m--> 348\u001b[0m     \u001b[38;5;28;43mself\u001b[39;49m\u001b[38;5;241;43m.\u001b[39;49m\u001b[43merror_handler\u001b[49m\u001b[38;5;241;43m.\u001b[39;49m\u001b[43mcheck_response\u001b[49m\u001b[43m(\u001b[49m\u001b[43mresponse\u001b[49m\u001b[43m)\u001b[49m\n\u001b[0;32m    349\u001b[0m     response[\u001b[38;5;124m\"\u001b[39m\u001b[38;5;124mvalue\u001b[39m\u001b[38;5;124m\"\u001b[39m] \u001b[38;5;241m=\u001b[39m \u001b[38;5;28mself\u001b[39m\u001b[38;5;241m.\u001b[39m_unwrap_value(response\u001b[38;5;241m.\u001b[39mget(\u001b[38;5;124m\"\u001b[39m\u001b[38;5;124mvalue\u001b[39m\u001b[38;5;124m\"\u001b[39m, \u001b[38;5;28;01mNone\u001b[39;00m))\n\u001b[0;32m    350\u001b[0m     \u001b[38;5;28;01mreturn\u001b[39;00m response\n",
      "File \u001b[1;32m~\\AppData\\Roaming\\Python\\Python310\\site-packages\\selenium\\webdriver\\remote\\errorhandler.py:229\u001b[0m, in \u001b[0;36mErrorHandler.check_response\u001b[1;34m(self, response)\u001b[0m\n\u001b[0;32m    227\u001b[0m         alert_text \u001b[38;5;241m=\u001b[39m value[\u001b[38;5;124m\"\u001b[39m\u001b[38;5;124malert\u001b[39m\u001b[38;5;124m\"\u001b[39m]\u001b[38;5;241m.\u001b[39mget(\u001b[38;5;124m\"\u001b[39m\u001b[38;5;124mtext\u001b[39m\u001b[38;5;124m\"\u001b[39m)\n\u001b[0;32m    228\u001b[0m     \u001b[38;5;28;01mraise\u001b[39;00m exception_class(message, screen, stacktrace, alert_text)  \u001b[38;5;66;03m# type: ignore[call-arg]  # mypy is not smart enough here\u001b[39;00m\n\u001b[1;32m--> 229\u001b[0m \u001b[38;5;28;01mraise\u001b[39;00m exception_class(message, screen, stacktrace)\n",
      "\u001b[1;31mNoSuchElementException\u001b[0m: Message: no such element: Unable to locate element: {\"method\":\"xpath\",\"selector\":\"//li[@class=\"next\"]\"}\n  (Session info: chrome=120.0.6099.225); For documentation on this error, please visit: https://www.selenium.dev/documentation/webdriver/troubleshooting/errors#no-such-element-exception\nStacktrace:\n\tGetHandleVerifier [0x00007FF7DE8F2142+3514994]\n\t(No symbol) [0x00007FF7DE510CE2]\n\t(No symbol) [0x00007FF7DE3B76AA]\n\t(No symbol) [0x00007FF7DE401860]\n\t(No symbol) [0x00007FF7DE40197C]\n\t(No symbol) [0x00007FF7DE444EE7]\n\t(No symbol) [0x00007FF7DE42602F]\n\t(No symbol) [0x00007FF7DE4428F6]\n\t(No symbol) [0x00007FF7DE425D93]\n\t(No symbol) [0x00007FF7DE3F4BDC]\n\t(No symbol) [0x00007FF7DE3F5C64]\n\tGetHandleVerifier [0x00007FF7DE91E16B+3695259]\n\tGetHandleVerifier [0x00007FF7DE976737+4057191]\n\tGetHandleVerifier [0x00007FF7DE96E4E3+4023827]\n\tGetHandleVerifier [0x00007FF7DE6404F9+689705]\n\t(No symbol) [0x00007FF7DE51C048]\n\t(No symbol) [0x00007FF7DE518044]\n\t(No symbol) [0x00007FF7DE5181C9]\n\t(No symbol) [0x00007FF7DE5088C4]\n\tBaseThreadInitThunk [0x00007FFC79527344+20]\n\tRtlUserThreadStart [0x00007FFC79CA26B1+33]\n"
     ]
    }
   ],
   "source": [
    "quotes_tag=[]\n",
    "start=0\n",
    "end=10\n",
    "for page in range(start,end):\n",
    "    quotes=driver.find_elements(By.XPATH,'//a[@class=\"title\"]')\n",
    "    for i in quotes:\n",
    "        quotes_tag.append(i.text)\n",
    "    next_button=driver.find_element(By.XPATH,'//li[@class=\"next\"]')\n",
    "    next_button.click()\n",
    "    time.sleep(3)"
   ]
  },
  {
   "cell_type": "code",
   "execution_count": 94,
   "id": "f85a9329",
   "metadata": {},
   "outputs": [
    {
     "data": {
      "text/plain": [
       "['The essence of strategy is choosing what not to do.',\n",
       " 'Can words describe the fragrance of the very breath of spring?',\n",
       " 'Success is not final, failure is not fatal: it is the courage to continue that counts.']"
      ]
     },
     "execution_count": 94,
     "metadata": {},
     "output_type": "execute_result"
    }
   ],
   "source": [
    "quotes_tag"
   ]
  },
  {
   "cell_type": "code",
   "execution_count": 110,
   "id": "eca8ffb7",
   "metadata": {},
   "outputs": [],
   "source": [
    "quote_tag=[]\n",
    "title_tags=driver.find_elements(By.XPATH,'//a[@class=\"title\"]')\n",
    "for i in title_tags:\n",
    "    title=i.text\n",
    "    quote_tag.append(title)"
   ]
  },
  {
   "cell_type": "code",
   "execution_count": 111,
   "id": "64d700f2",
   "metadata": {},
   "outputs": [
    {
     "data": {
      "text/plain": [
       "['The essence of strategy is choosing what not to do.',\n",
       " 'One cannot and must not try to erase the past merely because it does not fit the present.',\n",
       " 'Patriotism means to stand by the country. It does not mean to stand by the president.',\n",
       " 'Death is something inevitable. When a man has done what he considers to be his duty to his people and his country, he can rest in peace. I believe I have made that effort and that is, therefore, why I will sleep for the eternity.',\n",
       " 'You have to love a nation that celebrates its independence every July 4, not with a parade of guns, tanks, and soldiers who file by the White House in a show of strength and muscle, but with family picnics where kids throw Frisbees, the potato salad gets iffy, and the flies die from happiness. You may think you have overeaten, but it is patriotism.',\n",
       " 'Be more concerned with your character than your reputation, because your character is what you really are, while your reputation is merely what others think you are.',\n",
       " 'Weak people revenge. Strong people forgive. Intelligent People Ignore.',\n",
       " \"A mind is like a parachute. It doesn't work if it is not open.\",\n",
       " 'Never be afraid to raise your voice for honesty and truth and compassion against injustice and lying and greed. If people all over the world...would do this, it would change the earth.',\n",
       " 'There are three kinds of men. The one that learns by reading. The few who learn by observation. The rest of them have to pee on the electric fence for themselves.',\n",
       " \"A strong nation, like a strong person, can afford to be gentle, firm, thoughtful, and restrained. It can afford to extend a helping hand to others. It's a weak nation, like a weak person, that must behave with bluster and boasting and rashness and other signs of insecurity.\",\n",
       " 'The difference between stupidity and genius is that genius has its limits.',\n",
       " 'We the people are the rightful masters of both Congress and the courts, not to overthrow the Constitution but to overthrow the men who pervert the Constitution.',\n",
       " 'With or without religion, you would have good people doing good things and evil people doing evil things. But for good people to do evil things, that takes religion.',\n",
       " 'Human kindness has never weakened the stamina or softened the fiber of a free people. A nation does not have to be cruel to be tough.',\n",
       " 'A person who never made a mistake never tried anything new.',\n",
       " 'My mission in life is not merely to survive, but to thrive; and to do so with some passion, some compassion, some humor, and some style',\n",
       " 'Life is short, Break the Rules. Forgive quickly, Kiss slowly. Love truly. Laugh uncontrollably And never regret ANYTHING That makes you smile.',\n",
       " 'This country will not be a good place for any of us to live in unless we make it a good place for all of us to live in.',\n",
       " 'In a world filled with hate, we must still dare to hope. In a world filled with anger, we must still dare to comfort. In a world filled with despair, we must still dare to dream. And in a world filled with distrust, we must still dare to believe.',\n",
       " 'Darkness cannot drive out darkness; only light can do that. Hate cannot drive out hate; only love can do that.',\n",
       " 'To be a Christian means to forgive the inexcusable because God has forgiven the inexcusable in you.',\n",
       " 'A man who is good enough to shed his blood for the country is good enough to be given a square deal afterwards.',\n",
       " 'Kindness is the language which the deaf can hear and the blind can see.',\n",
       " 'Most folks are as happy as they make up their minds to be.',\n",
       " 'A happy marriage is the union of two good forgivers.',\n",
       " 'I believe in Christianity as I believe that the sun has risen: not only because I see it, but because by it I see everything else.',\n",
       " 'Politics is the art of looking for trouble, finding it everywhere, diagnosing it incorrectly and applying the wrong remedies.',\n",
       " \"I believe in everything until it's disproved. So I believe in fairies, the myths, dragons. It all exists, even if it's in your mind. Who's to say that dreams and nightmares aren't as real as the here and now?\",\n",
       " 'At the end of your life, you will never regret not having passed one more test, not winning one more verdict or not closing one more deal. You will regret time not spent with a husband, a friend, a child, or a parent.',\n",
       " 'I never think of the future - it comes soon enough.',\n",
       " \"Our greatest fear should not be of failure but of succeeding at things in life that don't really matter.\",\n",
       " 'Failure is simply the opportunity to begin again, this time more intelligently.',\n",
       " 'Music expresses that which cannot be put into words.',\n",
       " 'Good actions are a guard against the blows of adversity.',\n",
       " 'Positive thinking will let you do everything better than negative thinking will.',\n",
       " \"You have enemies? Good. That means you've stood up for something, sometime in your life.\",\n",
       " \"You don't have to be great to start, but you have to start to be great\",\n",
       " 'Let every nation know, whether it wishes us well or ill, that we shall pay any price, bear any burden, meet any hardship, support any friend, oppose any foe to assure the survival and the success of liberty.',\n",
       " \"If you want total security, go to prison. There you're fed, clothed, given medical care and so on. The only thing lacking... is freedom.\",\n",
       " 'Socialism is a philosophy of failure, the creed of ignorance, and the gospel of envy, its inherent virtue is the equal sharing of misery.',\n",
       " 'It is the supreme art of the teacher to awaken joy in creative expression and knowledge.',\n",
       " \"Once you replace negative thoughts with positive ones, you'll start having positive results.\",\n",
       " \"You build on failure. You use it as a stepping stone. Close the door on the past. You don't try to forget the mistakes, but you don't dwell on it. You don't let it have any of your energy, or any of your time, or any of your space.\",\n",
       " 'All my life through, the new sights of Nature made me rejoice like a child.',\n",
       " \"I've learned that people will forget what you said, people will forget what you did, but people will never forget how you made them feel.\",\n",
       " 'Marriage is not a ritual or an end. It is a long, intricate, intimate dance together and nothing matters more than your own sense of balance and your choice of partner.',\n",
       " 'When obstacles arise, you change your direction to reach your goal; you do not change your decision to get there.',\n",
       " 'Time you enjoy wasting, was not wasted.',\n",
       " 'The next time some academics tell you how important diversity is, ask how many Republicans there are in their sociology department.',\n",
       " 'Faith is not the belief that God will do what you want. It is the belief that God will do what is right.',\n",
       " \"If you can't fly then run, if you can't run then walk, if you can't walk then crawl, but whatever you do you have to keep moving forward.\",\n",
       " 'It is hard to imagine a more stupid or more dangerous way of making decisions than by putting those decisions in the hands of people who pay no price for being wrong.',\n",
       " 'I say that the most liberating thing about beauty is realizing that you are the beholder.',\n",
       " 'The ultimate measure of a man is not where he stands in moments of comfort and convenience, but where he stands at times of challenge and controversy.',\n",
       " 'The soldier, above all other people, prays for peace, for he must suffer and bear the deepest wounds and scars of war.',\n",
       " 'A true leader has the confidence to stand alone, the courage to make tough decisions, and the compassion to listen to the needs of others. He does not set out to be a leader, but becomes one by the equality of his actions and the integrity of his intent.',\n",
       " 'I am a Soldier, I fight where I am told, and I win where I fight.',\n",
       " \"Trying to do the Lord's work in your own strength is the most confusing, exhausting, and tedious of all work. But when you are filled with the Holy Spirit, then the ministry of Jesus just flows out of you.\",\n",
       " \"Sports for me is when a guy walks off the court, and you really can't tell whether he won or lost, when he carries himself with pride either way.\",\n",
       " 'Expect the best. Prepare for the worst. Capitalize on what comes.',\n",
       " 'I became insane, with long intervals of horrible sanity.',\n",
       " 'Failure is a detour, not a dead-end street.',\n",
       " 'I am not a product of my circumstances. I am a product of my decisions.',\n",
       " 'You can cut all the flowers but you cannot keep spring from coming.',\n",
       " \"Life doesn't run away from nobody. Life runs at people.\",\n",
       " 'In order to succeed, your desire for success should be greater than your fear of failure.',\n",
       " \"It's difficult to think anything but pleasant thoughts while eating a homegrown tomato.\",\n",
       " 'Too many of us are not living our dreams because we are living our fears.',\n",
       " 'If the only prayer you ever say in your entire life is thank you, it will be enough.',\n",
       " \"It's just a job. Grass grows, birds fly, waves pound the sand. I beat people up.\",\n",
       " 'A man must be big enough to admit his mistakes, smart enough to profit from them, and strong enough to correct them.',\n",
       " 'Our greatest weakness lies in giving up. The most certain way to succeed is always to try just one more time.',\n",
       " 'This is one small step for a man, one giant leap for mankind.',\n",
       " \"It has been said, 'time heals all wounds.' I do not agree. The wounds remain. In time, the mind, protecting its sanity, covers them with scar tissue and the pain lessens. But it is never gone.\",\n",
       " \"I have held many things in my hands, and I have lost them all; but whatever I have placed in God's hands, that I still possess.\",\n",
       " \"Welfare's purpose should be to eliminate, as far as possible, the need for its own existence.\",\n",
       " 'Each time, before you intercede, be quiet first, and worship God in His glory. Think of what He can do, and how He delights to hear the prayers of His redeemed people. Think of your place and privilege in Christ, and expect great things!',\n",
       " \"Failure is not the opposite of success; it's part of success.\",\n",
       " 'No one has ever become poor by giving.',\n",
       " 'It is not my ability, but my response to God’s ability, that counts.',\n",
       " 'No one is born hating another person because of the color of his skin, or his background, or his religion. People must learn to hate, and if they can learn to hate, they can be taught to love, for love comes more naturally to the human heart than its opposite.',\n",
       " 'No matter what people tell you, words and ideas can change the world.',\n",
       " 'A man should never neglect his family for business.',\n",
       " 'Those who dare to fail miserably can achieve greatly.',\n",
       " 'The two most important days in your life are the day you are born and the day you find out why.',\n",
       " 'We must be global Christians with a global vision because our God is a global God.',\n",
       " 'With everything that has happened to you, you can either feel sorry for yourself or treat what has happened as a gift. Everything is either an opportunity to grow or an obstacle to keep you from growing. You get to choose.',\n",
       " 'Don’t let the noise of others’ opinions drown out your own inner voice.',\n",
       " 'History, despite its wrenching pain, cannot be unlived, but if faced with courage, need not be lived again.',\n",
       " \"How old would you be if you didn't know how old you are?\",\n",
       " 'Leadership is a privilege to better the lives of others. It is not an opportunity to satisfy personal greed.',\n",
       " 'If you have good thoughts they will shine out of your face like sunbeams and you will always look lovely.',\n",
       " 'Never cut a tree down in the wintertime. Never make a negative decision in the low time. Never make your most important decisions when you are in your worst moods. Wait. Be patient. The storm will pass. The spring will come.',\n",
       " 'An optimist stays up until midnight to see the new year in. A pessimist stays up to make sure the old year leaves.',\n",
       " 'When the going gets weird, the weird turn pro.',\n",
       " \"When a train goes through a tunnel and it gets dark, you don't throw away the ticket and jump off. You sit still and trust the engineer.\",\n",
       " 'If you think you are too small to make a difference, try sleeping with a mosquito.',\n",
       " \"God doesn't require us to succeed, he only requires that you try.\",\n",
       " 'Change your thoughts and you change your world.']"
      ]
     },
     "execution_count": 111,
     "metadata": {},
     "output_type": "execute_result"
    }
   ],
   "source": [
    "quote_tag"
   ]
  },
  {
   "cell_type": "code",
   "execution_count": 113,
   "id": "12d8d1a6",
   "metadata": {},
   "outputs": [],
   "source": [
    "typeofquote_tag=[]\n",
    "title_tags=driver.find_elements(By.XPATH,'//li[@class=\"first fl\"]')\n",
    "for i in title_tags:\n",
    "    title=i.text\n",
    "    typeofquote_tag.append(title)"
   ]
  },
  {
   "cell_type": "code",
   "execution_count": 114,
   "id": "72e3aebe",
   "metadata": {},
   "outputs": [
    {
     "data": {
      "text/plain": [
       "['0-9\\n4th Of July\\n50th Birthday\\n18th Birthday\\n40th Birthday\\n30th Birthday\\nMore\\nA\\nAnniversary\\nAnger\\nAnchorman\\nAppreciation\\nArt\\nMore\\nB\\nBest Friend\\nBirthday\\nBreak Up\\nBoyfriend\\nBeauty\\nMore\\nC\\nChange\\nChristmas\\nConfidence\\nCourage\\nCute\\nMore\\nD\\nDepression\\nDance\\nDeath\\nDream\\nDaughter\\nMore\\nE\\nEncouraging\\nEducation\\nEquality\\nExperience\\nEncouragement\\nMore\\nF\\nFunny\\nFriendship\\nFamily\\nFriends\\nForgiveness\\nMore\\nG\\nGood Morning\\nGraduation\\nGod\\nGood Night\\nGirl\\nMore\\nH\\nHappy Birthday\\nHappiness\\nHappy\\nHilarious\\nHeartbreak\\nMore']"
      ]
     },
     "execution_count": 114,
     "metadata": {},
     "output_type": "execute_result"
    }
   ],
   "source": [
    "typeofquote_tag"
   ]
  },
  {
   "cell_type": "code",
   "execution_count": 115,
   "id": "e6e40876",
   "metadata": {},
   "outputs": [],
   "source": [
    "driver.get(\" https://www.jagranjosh.com\")"
   ]
  },
  {
   "cell_type": "code",
   "execution_count": 118,
   "id": "76b5a5c4",
   "metadata": {},
   "outputs": [],
   "source": [
    "name_tag=[]\n",
    "title_tags=driver.find_elements(By.XPATH,'//div[@class=\"TableData\"]')\n",
    "for i in title_tags:\n",
    "    title=i.text\n",
    "    name_tag.append(title)"
   ]
  },
  {
   "cell_type": "code",
   "execution_count": 119,
   "id": "6076b29d",
   "metadata": {},
   "outputs": [
    {
     "data": {
      "text/plain": [
       "[\"S.N.\\nPM Name\\nBorn-Dead\\nTerm of office\\nRemark\\n1.\\nJawahar Lal Nehru\\n(1889–1964)\\n15 August 1947 to 27 May 1964\\n16 years, 286 days\\nThe first prime minister of India and the longest-serving PM of India, the first to die in office.\\n2.\\nGulzarilal Nanda (Acting)\\n(1898-1998)\\n27 May 1964 to 9 June 1964,\\n13 days\\nFirst acting PM of India\\n3.\\nLal Bahadur Shastri\\n(1904–1966)\\n9 June 1964 to 11 January 1966\\n1 year, 216 days\\nHe has given the slogan of 'Jai Jawan Jai Kisan' during the Indo-Pak war of 1965\\n4. \\nGulzari Lal Nanda  (Acting)\\n(1898-1998)\\n11 January 1966 to 24 January 1966\\n13 days\\n-\\n5.\\nIndira Gandhi\\n(1917–1984)\\n24 January 1966 to 24 March 1977\\n11 years, 59 days\\nFirst female Prime Minister of India\\n6.\\nMorarji Desai\\n(1896–1995)\\n24 March 1977 to  28 July 1979 \\n2 year, 126 days\\nOldest to become PM (81 years old) and first to resign from office\\n7.\\nCharan Singh\\n(1902–1987)\\n28 July 1979 to 14 January 1980\\n170 days\\nOnly PM who did not face the Parliament\\n8.\\nIndira Gandhi\\n(1917–1984)\\n14 January 1980 to 31 October 1984\\n4 years, 291 days\\nThe first lady who served as PM for the second term\\n9.\\nRajiv Gandhi\\n(1944–1991)\\n31 October 1984 to 2 December 1989\\n5 years, 32 days\\nYoungest to become PM (40 years old)\\n10.\\nV. P. Singh\\n(1931–2008)\\n2 December 1989 to 10 November 1990\\n343 days\\nFirst PM to step down after a vote of no confidence\\n11.\\nChandra Shekhar\\n(1927–2007)\\n10 November 1990 to 21 June 1991\\n223 days\\nHe belongs to  Samajwadi Janata Party\\n12.\\nP. V. Narasimha Rao\\n(1921–2004)\\n21 June 1991 to 16 May 1996\\n4 years, 330 days\\nFirst PM from South India\\n13.\\nAtal Bihari Vajpayee\\n(1924- 2018)\\n16 May 1996 to 1 June 1996\\n16 days\\nPM for shortest tenure\\n14.\\nH. D. Deve Gowda\\n(born 1933)\\n1 June 1996 to 21 April 1997\\n324 days\\nHe belongs to  Janata Dal\\n15.\\nInder Kumar Gujral\\n(1919–2012)\\n21 April 1997 to 19 March 1998 \\n332 days\\n------\\n16.\\nAtal Bihari Vajpayee\\n(1924-2018)\\n19 March 1998 to 22 May 2004 \\n6 years, 64 days\\n The first non-congress PM who completed a full term as PM\\n17.\\nManmohan Singh\\n(born 1932)\\n22 May 2004 to 26 May 2014   \\n10 years, 4 days\\n First Sikh PM\\n18.\\nNarendra Modi\\n(born 1950)\\n26 May 2014 - 2019\\n4th Prime Minister of India who served two consecutive tenures\\n19.\\nNarendra Modi\\n(born 1950)\\n30 May 2019- Incumbent\\nFirst non-congress PM with two consecutive tenures\",\n",
       " 'List of all Presidents of India List of Nicknames of Indian Prime Ministers']"
      ]
     },
     "execution_count": 119,
     "metadata": {},
     "output_type": "execute_result"
    }
   ],
   "source": [
    "name_tag"
   ]
  },
  {
   "cell_type": "code",
   "execution_count": 120,
   "id": "5e42b91f",
   "metadata": {},
   "outputs": [],
   "source": [
    "import pandas as pd\n",
    "import numpy as np"
   ]
  },
  {
   "cell_type": "code",
   "execution_count": 126,
   "id": "a6ca47bb",
   "metadata": {},
   "outputs": [
    {
     "data": {
      "text/html": [
       "<div>\n",
       "<style scoped>\n",
       "    .dataframe tbody tr th:only-of-type {\n",
       "        vertical-align: middle;\n",
       "    }\n",
       "\n",
       "    .dataframe tbody tr th {\n",
       "        vertical-align: top;\n",
       "    }\n",
       "\n",
       "    .dataframe thead th {\n",
       "        text-align: right;\n",
       "    }\n",
       "</style>\n",
       "<table border=\"1\" class=\"dataframe\">\n",
       "  <thead>\n",
       "    <tr style=\"text-align: right;\">\n",
       "      <th></th>\n",
       "      <th>Name</th>\n",
       "      <th>Born-Dead</th>\n",
       "      <th>Term-of-office</th>\n",
       "      <th>Remarks</th>\n",
       "    </tr>\n",
       "  </thead>\n",
       "  <tbody>\n",
       "    <tr>\n",
       "      <th>0</th>\n",
       "      <td>Jawahar Lal Nehru</td>\n",
       "      <td>1889–1964</td>\n",
       "      <td>15 August 1947 to 27 May 1964 16 years 286 days</td>\n",
       "      <td>The first prime minister of India and the long...</td>\n",
       "    </tr>\n",
       "    <tr>\n",
       "      <th>1</th>\n",
       "      <td>Gulzarilal Nanda</td>\n",
       "      <td>(1898-1998)</td>\n",
       "      <td>27 May 1964 to 9 June 1964 13 days</td>\n",
       "      <td>First acting PM of India</td>\n",
       "    </tr>\n",
       "    <tr>\n",
       "      <th>2</th>\n",
       "      <td>Lal Bahadur Shastri</td>\n",
       "      <td>(1904–1966)</td>\n",
       "      <td>9 June 1964 to 11 January 1966 1 year 216 days</td>\n",
       "      <td>He has given the slogan of Jai Jawan Jai Kisan...</td>\n",
       "    </tr>\n",
       "    <tr>\n",
       "      <th>3</th>\n",
       "      <td>Gulzari Lal Nanda</td>\n",
       "      <td>(1898-1998)</td>\n",
       "      <td>11 January 1966 to 24 January 1966 13 days</td>\n",
       "      <td>Acting Prime Minister</td>\n",
       "    </tr>\n",
       "    <tr>\n",
       "      <th>4</th>\n",
       "      <td>Indira Gandhi</td>\n",
       "      <td>(1917–1984)</td>\n",
       "      <td>24 January 1966 to 24 March 1977 11 years 59 days</td>\n",
       "      <td>First female Prime Minister of India</td>\n",
       "    </tr>\n",
       "    <tr>\n",
       "      <th>5</th>\n",
       "      <td>Morarji Desai</td>\n",
       "      <td>(1896–1995)</td>\n",
       "      <td>24 March 1977 to  28 July 1979 2 year 126 days...</td>\n",
       "      <td>first to resign from office</td>\n",
       "    </tr>\n",
       "    <tr>\n",
       "      <th>6</th>\n",
       "      <td>Charan Singh</td>\n",
       "      <td>(1902–1987)</td>\n",
       "      <td>28 July 1979 to 14 January 1980 170 days</td>\n",
       "      <td>Only PM who did not face the Parliament</td>\n",
       "    </tr>\n",
       "    <tr>\n",
       "      <th>7</th>\n",
       "      <td>Indira Gandhi</td>\n",
       "      <td>(1917–1984)</td>\n",
       "      <td>14 January 1980 to 31 October 1984 4 years 291...</td>\n",
       "      <td>The first lady who served as PM for the second...</td>\n",
       "    </tr>\n",
       "    <tr>\n",
       "      <th>8</th>\n",
       "      <td>Rajiv Gandhi</td>\n",
       "      <td>(1944–1991)</td>\n",
       "      <td>31 October 1984 to 2 December 1989 5 years 32 ...</td>\n",
       "      <td>Youngest to become PM 40 years old</td>\n",
       "    </tr>\n",
       "    <tr>\n",
       "      <th>9</th>\n",
       "      <td>V. P. Singh</td>\n",
       "      <td>(1931–2008)</td>\n",
       "      <td>2 December 1989 to 10 November 1990 343 days</td>\n",
       "      <td>First PM to step down after a vote of no conf...</td>\n",
       "    </tr>\n",
       "    <tr>\n",
       "      <th>10</th>\n",
       "      <td>Chandra Shekhar</td>\n",
       "      <td>(1927–2007)</td>\n",
       "      <td>10 November 1990 to 21 June 1991 223 days</td>\n",
       "      <td>He belongs to  Samajwadi Janata Party</td>\n",
       "    </tr>\n",
       "    <tr>\n",
       "      <th>11</th>\n",
       "      <td>P. V. Narasimha Rao</td>\n",
       "      <td>(1921–2004)</td>\n",
       "      <td>21 June 1991 to 16 May 1996 4 years 330 days</td>\n",
       "      <td>First PM from South India</td>\n",
       "    </tr>\n",
       "    <tr>\n",
       "      <th>12</th>\n",
       "      <td>Atal Bihari Vajpayee</td>\n",
       "      <td>(1924- 2018)</td>\n",
       "      <td>16 May 1996 to 1 June 1996 16 days</td>\n",
       "      <td>PM for shortest tenure</td>\n",
       "    </tr>\n",
       "    <tr>\n",
       "      <th>13</th>\n",
       "      <td>H. D. Deve Gowda</td>\n",
       "      <td>(born 1933)</td>\n",
       "      <td>1 June 1996 to 21 April 1997 324 days</td>\n",
       "      <td>He belongs to  Janata Dal</td>\n",
       "    </tr>\n",
       "    <tr>\n",
       "      <th>14</th>\n",
       "      <td>Inder Kumar Gujral</td>\n",
       "      <td>(1919–2012)</td>\n",
       "      <td>21 April 1997 to 19 March 1998 332 days</td>\n",
       "      <td>Fantastic</td>\n",
       "    </tr>\n",
       "    <tr>\n",
       "      <th>15</th>\n",
       "      <td>Atal Bihari Vajpayee</td>\n",
       "      <td>(1924-2018)</td>\n",
       "      <td>19 March 1998 to 22 May 2004 6 years 64 days</td>\n",
       "      <td>The first non-congress PM who completed a ful...</td>\n",
       "    </tr>\n",
       "    <tr>\n",
       "      <th>16</th>\n",
       "      <td>Manmohan Singh</td>\n",
       "      <td>(born 1932)</td>\n",
       "      <td>22 May 2004 to 26 May 2014 10 years 4 days</td>\n",
       "      <td>First Sikh PM</td>\n",
       "    </tr>\n",
       "    <tr>\n",
       "      <th>17</th>\n",
       "      <td>Narendra Modi</td>\n",
       "      <td>(born 1950)</td>\n",
       "      <td>26 May 2014 - 2019</td>\n",
       "      <td>4th Prime Minister of India who served two con...</td>\n",
       "    </tr>\n",
       "    <tr>\n",
       "      <th>18</th>\n",
       "      <td>Narendra Modi</td>\n",
       "      <td>(born 1950)</td>\n",
       "      <td>30 May 2019- Incumbent</td>\n",
       "      <td>First non-congress PM with two consecutive ten...</td>\n",
       "    </tr>\n",
       "  </tbody>\n",
       "</table>\n",
       "</div>"
      ],
      "text/plain": [
       "                    Name     Born-Dead  \\\n",
       "0      Jawahar Lal Nehru     1889–1964   \n",
       "1       Gulzarilal Nanda   (1898-1998)   \n",
       "2    Lal Bahadur Shastri   (1904–1966)   \n",
       "3      Gulzari Lal Nanda   (1898-1998)   \n",
       "4          Indira Gandhi   (1917–1984)   \n",
       "5          Morarji Desai   (1896–1995)   \n",
       "6           Charan Singh   (1902–1987)   \n",
       "7          Indira Gandhi   (1917–1984)   \n",
       "8           Rajiv Gandhi   (1944–1991)   \n",
       "9            V. P. Singh   (1931–2008)   \n",
       "10       Chandra Shekhar   (1927–2007)   \n",
       "11   P. V. Narasimha Rao   (1921–2004)   \n",
       "12  Atal Bihari Vajpayee  (1924- 2018)   \n",
       "13      H. D. Deve Gowda   (born 1933)   \n",
       "14    Inder Kumar Gujral   (1919–2012)   \n",
       "15  Atal Bihari Vajpayee   (1924-2018)   \n",
       "16        Manmohan Singh   (born 1932)   \n",
       "17         Narendra Modi   (born 1950)   \n",
       "18         Narendra Modi   (born 1950)   \n",
       "\n",
       "                                       Term-of-office  \\\n",
       "0     15 August 1947 to 27 May 1964 16 years 286 days   \n",
       "1                  27 May 1964 to 9 June 1964 13 days   \n",
       "2      9 June 1964 to 11 January 1966 1 year 216 days   \n",
       "3          11 January 1966 to 24 January 1966 13 days   \n",
       "4   24 January 1966 to 24 March 1977 11 years 59 days   \n",
       "5   24 March 1977 to  28 July 1979 2 year 126 days...   \n",
       "6            28 July 1979 to 14 January 1980 170 days   \n",
       "7   14 January 1980 to 31 October 1984 4 years 291...   \n",
       "8   31 October 1984 to 2 December 1989 5 years 32 ...   \n",
       "9        2 December 1989 to 10 November 1990 343 days   \n",
       "10          10 November 1990 to 21 June 1991 223 days   \n",
       "11       21 June 1991 to 16 May 1996 4 years 330 days   \n",
       "12                 16 May 1996 to 1 June 1996 16 days   \n",
       "13              1 June 1996 to 21 April 1997 324 days   \n",
       "14            21 April 1997 to 19 March 1998 332 days   \n",
       "15       19 March 1998 to 22 May 2004 6 years 64 days   \n",
       "16         22 May 2004 to 26 May 2014 10 years 4 days   \n",
       "17                                 26 May 2014 - 2019   \n",
       "18                             30 May 2019- Incumbent   \n",
       "\n",
       "                                              Remarks  \n",
       "0   The first prime minister of India and the long...  \n",
       "1                            First acting PM of India  \n",
       "2   He has given the slogan of Jai Jawan Jai Kisan...  \n",
       "3                               Acting Prime Minister  \n",
       "4                First female Prime Minister of India  \n",
       "5                         first to resign from office  \n",
       "6             Only PM who did not face the Parliament  \n",
       "7   The first lady who served as PM for the second...  \n",
       "8                  Youngest to become PM 40 years old  \n",
       "9    First PM to step down after a vote of no conf...  \n",
       "10              He belongs to  Samajwadi Janata Party  \n",
       "11                          First PM from South India  \n",
       "12                             PM for shortest tenure  \n",
       "13                          He belongs to  Janata Dal  \n",
       "14                                          Fantastic  \n",
       "15   The first non-congress PM who completed a ful...  \n",
       "16                                      First Sikh PM  \n",
       "17  4th Prime Minister of India who served two con...  \n",
       "18  First non-congress PM with two consecutive ten...  "
      ]
     },
     "execution_count": 126,
     "metadata": {},
     "output_type": "execute_result"
    }
   ],
   "source": [
    "data=[[\"Jawahar Lal Nehru\",\"1889–1964\",\"15 August 1947 to 27 May 1964 16 years 286 days\",\"The first prime minister of India and the longest-serving PM of India\"],[\"Gulzarilal Nanda\",\"(1898-1998)\",\"27 May 1964 to 9 June 1964 13 days\",\"First acting PM of India\"],[\"Lal Bahadur Shastri\",\"(1904–1966)\",\"9 June 1964 to 11 January 1966 1 year 216 days\",\"He has given the slogan of Jai Jawan Jai Kisan during the Indo-Pak war of 1965\"],[\"Gulzari Lal Nanda\",\"(1898-1998)\",\" 11 January 1966 to 24 January 1966 13 days\",\"Acting Prime Minister\"],[\"Indira Gandhi\",\"(1917–1984)\",\"24 January 1966 to 24 March 1977 11 years 59 days\",\"First female Prime Minister of India\"],[\"Morarji Desai\",\"(1896–1995)\",\"24 March 1977 to  28 July 1979 2 year 126 days Oldest to become PM 81 years old\",\"first to resign from office\"],[\"Charan Singh\",\"(1902–1987)\",\"28 July 1979 to 14 January 1980 170 days\",\" Only PM who did not face the Parliament\"],[\"Indira Gandhi\",\"(1917–1984)\",\"14 January 1980 to 31 October 1984 4 years 291 days\",\"The first lady who served as PM for the second term\"],[\"Rajiv Gandhi\",\"(1944–1991)\",\"31 October 1984 to 2 December 1989 5 years 32 days\",\"Youngest to become PM 40 years old\"],[\"V. P. Singh\",\"(1931–2008)\",\"2 December 1989 to 10 November 1990 343 days\",\" First PM to step down after a vote of no confidence\"],[\"Chandra Shekhar\",\"(1927–2007)\",\"10 November 1990 to 21 June 1991 223 days\",\" He belongs to  Samajwadi Janata Party\"],[\"P. V. Narasimha Rao\",\"(1921–2004)\",\"21 June 1991 to 16 May 1996 4 years 330 days\",\"First PM from South India\"],[\"Atal Bihari Vajpayee\",\"(1924- 2018)\",\"16 May 1996 to 1 June 1996 16 days\",\"PM for shortest tenure\"],[\"H. D. Deve Gowda\",\"(born 1933)\",\"1 June 1996 to 21 April 1997 324 days\",\"He belongs to  Janata Dal\"],[\"Inder Kumar Gujral\",\"(1919–2012)\",\"21 April 1997 to 19 March 1998 332 days\",\"Fantastic\"],[\"Atal Bihari Vajpayee\",\"(1924-2018)\",\"19 March 1998 to 22 May 2004 6 years 64 days\",\" The first non-congress PM who completed a full term as PM\"],[\"Manmohan Singh\",\"(born 1932)\",\"22 May 2004 to 26 May 2014 10 years 4 days\",\"First Sikh PM\"],[\"Narendra Modi\",\"(born 1950)\",\"26 May 2014 - 2019\",\"4th Prime Minister of India who served two consecutive tenures\"],[\"Narendra Modi\",\"(born 1950)\",\"30 May 2019- Incumbent\",\"First non-congress PM with two consecutive tenures\"]]\n",
    "df=pd.DataFrame(data,columns=[\"Name\",\"Born-Dead\",\"Term-of-office\",\"Remarks\"])\n",
    "df"
   ]
  },
  {
   "cell_type": "code",
   "execution_count": 127,
   "id": "d3da6100",
   "metadata": {},
   "outputs": [],
   "source": [
    "driver.get(\"https://www.motor1.com/\")"
   ]
  },
  {
   "cell_type": "code",
   "execution_count": null,
   "id": "c9bb370a",
   "metadata": {},
   "outputs": [],
   "source": [
    "mostexpensive_tag=[]\n",
    "title_tags=driver.find_elements(By.XPATH,'//h3[@class=\"subheader\"]')\n",
    "for i in title_tags:\n",
    "    title=i.text\n",
    "    mostexpensive_tag.append(title)"
   ]
  },
  {
   "cell_type": "code",
   "execution_count": null,
   "id": "74b5db48",
   "metadata": {},
   "outputs": [],
   "source": [
    "price_tag=[]\n",
    "title_tags=driver.find_elements(By.XPATH,'/html/body/div[10]/div[7]/div[2]/div[1]/div[2]/div[2]/p[6]/strong')\n",
    "for i in title_tags:\n",
    "    title=i.text\n",
    "    price_tag.append(title)"
   ]
  },
  {
   "cell_type": "markdown",
   "id": "a9df80d4",
   "metadata": {},
   "source": [
    "Question=2"
   ]
  },
  {
   "cell_type": "markdown",
   "id": "71ad387a",
   "metadata": {},
   "source": [
    "Q2: Write a python program to scrape data for “Data Scientist” Job position in “Bangalore” location. You have to scrape the job-title, job-location, company_name. You have to scrape first 10 jobs data."
   ]
  },
  {
   "cell_type": "code",
   "execution_count": null,
   "id": "190674e0",
   "metadata": {},
   "outputs": [],
   "source": [
    "driver.get(\" https://www.shine.com/\")"
   ]
  },
  {
   "cell_type": "code",
   "execution_count": null,
   "id": "90669197",
   "metadata": {},
   "outputs": [],
   "source": []
  }
 ],
 "metadata": {
  "kernelspec": {
   "display_name": "Python 3 (ipykernel)",
   "language": "python",
   "name": "python3"
  },
  "language_info": {
   "codemirror_mode": {
    "name": "ipython",
    "version": 3
   },
   "file_extension": ".py",
   "mimetype": "text/x-python",
   "name": "python",
   "nbconvert_exporter": "python",
   "pygments_lexer": "ipython3",
   "version": "3.10.9"
  }
 },
 "nbformat": 4,
 "nbformat_minor": 5
}
