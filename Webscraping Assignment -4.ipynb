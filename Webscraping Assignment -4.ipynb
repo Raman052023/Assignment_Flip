{
 "cells": [
  {
   "cell_type": "markdown",
   "id": "0c4f19d9",
   "metadata": {},
   "source": [
    "# Q1"
   ]
  },
  {
   "cell_type": "code",
   "execution_count": 1,
   "id": "b57226f7",
   "metadata": {},
   "outputs": [],
   "source": [
    "import pandas as pd\n",
    "import selenium\n",
    "from selenium import webdriver\n",
    "import warnings\n",
    "warnings.filterwarnings(\"ignore\")\n",
    "from selenium.webdriver.common.by import By\n",
    "import time"
   ]
  },
  {
   "cell_type": "code",
   "execution_count": 3,
   "id": "f5a68211",
   "metadata": {},
   "outputs": [],
   "source": [
    "from selenium.webdriver.support.ui import WebDriverWait\n",
    "from selenium.webdriver.support import expected_conditions as EC"
   ]
  },
  {
   "cell_type": "code",
   "execution_count": 4,
   "id": "83a769dc",
   "metadata": {},
   "outputs": [],
   "source": [
    "driver=webdriver.Chrome()\n",
    "driver.get(\"https://en.wikipedia.org/wiki/List_of_most-viewed_YouTube_videos\")"
   ]
  },
  {
   "cell_type": "code",
   "execution_count": 8,
   "id": "59abdeb2",
   "metadata": {},
   "outputs": [],
   "source": [
    "Name_tag=[]\n",
    "title_tags=driver.find_elements(By.XPATH,'/html/body/div[2]/div/div[3]/main/div[3]/div[3]/div[1]/table[2]')\n",
    "for i in title_tags:\n",
    "    title=i.text\n",
    "    Name_tag.append(title)"
   ]
  },
  {
   "cell_type": "code",
   "execution_count": 9,
   "id": "b53e02d7",
   "metadata": {},
   "outputs": [
    {
     "data": {
      "text/plain": [
       "['Video name Uploader Views\\n(billions) Date\\n  \"Baby Shark Dance\"[6] Pinkfong Baby Shark - Kids\\' Songs & Stories 14.09 June 17, 2016 [A]\\n\"Despacito\"[9] Luis Fonsi 8.38 January 12, 2017 [B]\\n\"Johny Johny Yes Papa\"[17] LooLoo Kids - Nursery Rhymes and Children\\'s Songs 6.87 October 8, 2016\\n\"Bath Song\"[18] Cocomelon - Nursery Rhymes 6.62 May 2, 2018\\n\"Shape of You\"[19] Ed Sheeran 6.20 January 30, 2017 [C]\\n\"See You Again\"[22] Wiz Khalifa 6.17 April 6, 2015 [D]\\n\"Wheels on the Bus\"[27] Cocomelon - Nursery Rhymes 5.88 May 24, 2018\\n\"Phonics Song with Two Words\"[28] ChuChu TV Nursery Rhymes & Kids Songs 5.70 March 6, 2014\\n\"Uptown Funk\"[29] Mark Ronson 5.15 November 19, 2014\\n\"Learning Colors – Colorful Eggs on a Farm\"[30] Miroshka TV 5.07 February 27, 2018\\n\"Gangnam Style\"[31] Psy 5.05 July 15, 2012 [E]\\n\"Masha and the Bear – Recipe for Disaster\"[36] Get Movies 4.58 January 31, 2012\\n\"Dame Tu Cosita\"[37] Ultra Records 4.55 April 5, 2018\\n\"Axel F\"[38] Crazy Frog 4.34 June 16, 2009\\n\"Sugar\"[39] Maroon 5 4.00 January 14, 2015\\n\"Counting Stars\"[40] OneRepublic 3.97 May 31, 2013\\n\"Baa Baa Black Sheep\"[41] Cocomelon - Nursery Rhymes 3.96 June 25, 2018\\n\"Roar\"[42] Katy Perry 3.96 September 5, 2013\\n\"Lakdi Ki Kathi\"[43] Jingle Toons 3.91 June 14, 2018\\n\"Waka Waka (This Time for Africa)\"[44] Shakira 3.85 June 4, 2010\\n\"Sorry\"[45] Justin Bieber 3.77 October 22, 2015\\n\"Thinking Out Loud\"[46] Ed Sheeran 3.73 October 7, 2014\\n\"Humpty the train on a fruits ride\"[47] Kiddiestv Hindi - Nursery Rhymes & Kids Songs 3.73 January 26, 2018\\n\"Shree Hanuman Chalisa\"[48] T-Series Bhakti Sagar 3.69 May 10, 2011\\n\"Dark Horse\"[49] Katy Perry 3.67 February 20, 2014\\n\"Perfect\"[50] Ed Sheeran 3.67 November 9, 2017\\n\"Let Her Go\"[51] Passenger 3.61 July 25, 2012\\n\"Faded\"[52] Alan Walker 3.59 December 3, 2015\\n\"Girls Like You\"[53] Maroon 5 3.56 May 31, 2018\\n\"Lean On\"[54] Major Lazer Official 3.55 March 22, 2015\\nAs of February 13, 2024']"
      ]
     },
     "execution_count": 9,
     "metadata": {},
     "output_type": "execute_result"
    }
   ],
   "source": [
    "Name_tag"
   ]
  },
  {
   "cell_type": "code",
   "execution_count": null,
   "id": "c743fbce",
   "metadata": {},
   "outputs": [],
   "source": [
    "Videoname_urls=[]\n",
    "url=driver.find_elements(By.XPATH,'/html/body/div[2]/div/div[3]/main/div[3]/div[3]/div[1]/table[2]')\n",
    "for i in url:\n",
    "    Videoname_urls.append(i.get_attribute(\"href\"))\n",
    "    time.sleep(2)"
   ]
  },
  {
   "cell_type": "markdown",
   "id": "e367670a",
   "metadata": {},
   "source": [
    "# Q2"
   ]
  },
  {
   "cell_type": "code",
   "execution_count": 1,
   "id": "f4bc0e91",
   "metadata": {},
   "outputs": [],
   "source": [
    "import pandas as pd\n",
    "import selenium\n",
    "from selenium import webdriver\n",
    "import warnings\n",
    "warnings.filterwarnings(\"ignore\")\n",
    "from selenium.webdriver.common.by import By\n",
    "import time"
   ]
  },
  {
   "cell_type": "code",
   "execution_count": 3,
   "id": "f601251e",
   "metadata": {},
   "outputs": [],
   "source": [
    "driver=webdriver.Chrome()\n",
    "driver.get(\"http://www.bcci.tv/\")"
   ]
  },
  {
   "cell_type": "code",
   "execution_count": 5,
   "id": "2f090ac0",
   "metadata": {},
   "outputs": [],
   "source": [
    "from selenium.common.exceptions import ElementNotInteractableException"
   ]
  },
  {
   "cell_type": "code",
   "execution_count": 6,
   "id": "6221c530",
   "metadata": {},
   "outputs": [
    {
     "name": "stdout",
     "output_type": "stream",
     "text": [
      "Exception Raised: Message: element not interactable\n",
      "  (Session info: chrome=121.0.6167.189)\n",
      "Stacktrace:\n",
      "\tGetHandleVerifier [0x00007FF79E527012+3522402]\n",
      "\t(No symbol) [0x00007FF79E148352]\n",
      "\t(No symbol) [0x00007FF79DFF596D]\n",
      "\t(No symbol) [0x00007FF79E036E47]\n",
      "\t(No symbol) [0x00007FF79E0359A3]\n",
      "\t(No symbol) [0x00007FF79E05F05A]\n",
      "\t(No symbol) [0x00007FF79E03120A]\n",
      "\t(No symbol) [0x00007FF79E05F270]\n",
      "\t(No symbol) [0x00007FF79E07BDA3]\n",
      "\t(No symbol) [0x00007FF79E05EE03]\n",
      "\t(No symbol) [0x00007FF79E02F4D4]\n",
      "\t(No symbol) [0x00007FF79E0305F1]\n",
      "\tGetHandleVerifier [0x00007FF79E559B9D+3730157]\n",
      "\tGetHandleVerifier [0x00007FF79E5AF02D+4079485]\n",
      "\tGetHandleVerifier [0x00007FF79E5A75D3+4048163]\n",
      "\tGetHandleVerifier [0x00007FF79E27A649+718233]\n",
      "\t(No symbol) [0x00007FF79E154A3F]\n",
      "\t(No symbol) [0x00007FF79E14FA94]\n",
      "\t(No symbol) [0x00007FF79E14FBC2]\n",
      "\t(No symbol) [0x00007FF79E13F2E4]\n",
      "\tBaseThreadInitThunk [0x00007FFFD28B7344+20]\n",
      "\tRtlUserThreadStart [0x00007FFFD35C26B1+33]\n",
      "\n"
     ]
    }
   ],
   "source": [
    "try:\n",
    "    designation=driver.find_element(By.XPATH,'/html/body/header/div[1]/button[2]')\n",
    "    designation.send_keys(\"international fixtures\")\n",
    "except ElementNotInteractableException as e:\n",
    "    print(\"Exception Raised:\",e)"
   ]
  },
  {
   "cell_type": "code",
   "execution_count": 7,
   "id": "b706ef19",
   "metadata": {},
   "outputs": [],
   "source": [
    "Internationalfixture_tag=[]\n",
    "title_tags=driver.find_elements(By.XPATH,\"/html/body/section/div/div/div/div/div/div[2]/div[2]/div/div[1]\")\n",
    "for i in title_tags:\n",
    "    title=i.text\n",
    "    Internationalfixture_tag.append(title)"
   ]
  },
  {
   "cell_type": "code",
   "execution_count": 8,
   "id": "d4bc996a",
   "metadata": {},
   "outputs": [
    {
     "data": {
      "text/plain": [
       "['LIVE\\n4th TestMen\\n23 FEBRUARY, 2024\\n9:30 AM IST\\nJSCA International Stadium Complex, Ranchi\\nENGLAND TOUR OF INDIA 2023-24\\nIndia\\n13/1\\n4.1 overs\\nEngland\\n353\\n104.5 overs\\nIndia Trail By 340 Runs\\nMatch Centre']"
      ]
     },
     "execution_count": 8,
     "metadata": {},
     "output_type": "execute_result"
    }
   ],
   "source": [
    "Internationalfixture_tag"
   ]
  },
  {
   "cell_type": "code",
   "execution_count": 9,
   "id": "6d4220a1",
   "metadata": {},
   "outputs": [],
   "source": [
    "Internationalfixture1_tag=[]\n",
    "title_tags=driver.find_elements(By.XPATH,'//div[@class=\"col-lg-12 col-md-12 col-sm-12 ng-scope\"]')\n",
    "for i in title_tags:\n",
    "    title=i.text\n",
    "    Internationalfixture1_tag.append(title)"
   ]
  },
  {
   "cell_type": "code",
   "execution_count": 10,
   "id": "ac614073",
   "metadata": {},
   "outputs": [
    {
     "data": {
      "text/plain": [
       "['LIVE\\n4th TestMen\\n23 FEBRUARY, 2024\\n9:30 AM IST\\nJSCA International Stadium Complex, Ranchi\\nENGLAND TOUR OF INDIA 2023-24\\nIndia\\n19/1\\n5.2 overs\\nEngland\\n353\\n104.5 overs\\nIndia Trail By 334 Runs\\nMatch Centre',\n",
       " '5th TestMen\\nENGLAND TOUR OF INDIA 2023-24\\n7 MARCH, 2024\\n9:30 AM IST\\nHimachal Pradesh Cricket Association Stadium, Dharamsala\\nIndia\\nEngland\\nMatch Info',\n",
       " '1st T20IMen\\nINDIA TOUR OF ZIMBABWE 2024\\n6 JULY, 2024\\n8:00 PM IST\\nHarare Sports Club, Harare\\nZimbabwe\\nIndia\\nMatch Info',\n",
       " '2nd T20IMen\\nINDIA TOUR OF ZIMBABWE 2024\\n7 JULY, 2024\\n8:00 PM IST\\nHarare Sports Club, Harare\\nZimbabwe\\nIndia\\nMatch Info',\n",
       " '3rd T20IMen\\nINDIA TOUR OF ZIMBABWE 2024\\n10 JULY, 2024\\n8:00 PM IST\\nHarare Sports Club, Harare\\nZimbabwe\\nIndia\\nMatch Info',\n",
       " '4th T20IMen\\nINDIA TOUR OF ZIMBABWE 2024\\n13 JULY, 2024\\n8:00 PM IST\\nHarare Sports Club, Harare\\nZimbabwe\\nIndia\\nMatch Info',\n",
       " '5th T20IMen\\nINDIA TOUR OF ZIMBABWE 2024\\n14 JULY, 2024\\n8:00 PM IST\\nHarare Sports Club, Harare\\nZimbabwe\\nIndia\\nMatch Info']"
      ]
     },
     "execution_count": 10,
     "metadata": {},
     "output_type": "execute_result"
    }
   ],
   "source": [
    "Internationalfixture1_tag"
   ]
  },
  {
   "cell_type": "code",
   "execution_count": 11,
   "id": "b8508388",
   "metadata": {},
   "outputs": [],
   "source": [
    "tournament_tag=[]\n",
    "title_tags=driver.find_elements(By.XPATH,'//h5[@class=\"match-tournament-name ng-binding\"]')\n",
    "for i in title_tags:\n",
    "    title=i.text\n",
    "    tournament_tag.append(title)"
   ]
  },
  {
   "cell_type": "code",
   "execution_count": 12,
   "id": "b8cc9514",
   "metadata": {},
   "outputs": [
    {
     "data": {
      "text/plain": [
       "['ENGLAND TOUR OF INDIA 2023-24',\n",
       " 'ENGLAND TOUR OF INDIA 2023-24',\n",
       " 'INDIA TOUR OF ZIMBABWE 2024',\n",
       " 'INDIA TOUR OF ZIMBABWE 2024',\n",
       " 'INDIA TOUR OF ZIMBABWE 2024',\n",
       " 'INDIA TOUR OF ZIMBABWE 2024',\n",
       " 'INDIA TOUR OF ZIMBABWE 2024']"
      ]
     },
     "execution_count": 12,
     "metadata": {},
     "output_type": "execute_result"
    }
   ],
   "source": [
    "tournament_tag"
   ]
  },
  {
   "cell_type": "code",
   "execution_count": 15,
   "id": "ba13abc0",
   "metadata": {},
   "outputs": [],
   "source": [
    "Place_tag=[]\n",
    "title_tags=driver.find_elements(By.XPATH,'//span[@class=\"ng-binding ng-scope\"]')\n",
    "for i in title_tags:\n",
    "    title=i.text\n",
    "    Place_tag.append(title)"
   ]
  },
  {
   "cell_type": "code",
   "execution_count": 16,
   "id": "1e8dd5d6",
   "metadata": {},
   "outputs": [
    {
     "data": {
      "text/plain": [
       "['JSCA International Stadium Complex,',\n",
       " '10.0 overs',\n",
       " 'Himachal Pradesh Cricket Association Stadium,',\n",
       " 'Harare Sports Club,',\n",
       " 'Harare Sports Club,',\n",
       " 'Harare Sports Club,',\n",
       " 'Harare Sports Club,',\n",
       " 'Harare Sports Club,']"
      ]
     },
     "execution_count": 16,
     "metadata": {},
     "output_type": "execute_result"
    }
   ],
   "source": [
    "Place_tag"
   ]
  },
  {
   "cell_type": "code",
   "execution_count": 17,
   "id": "123b3c50",
   "metadata": {},
   "outputs": [],
   "source": [
    "Date_tag=[]\n",
    "title_tags=driver.find_elements(By.XPATH,'//div[@class=\"match-dates ng-binding\"]')\n",
    "for i in title_tags:\n",
    "    title=i.text\n",
    "    Date_tag.append(title)"
   ]
  },
  {
   "cell_type": "code",
   "execution_count": 18,
   "id": "74b7ca7d",
   "metadata": {},
   "outputs": [
    {
     "data": {
      "text/plain": [
       "['23 FEBRUARY, 2024',\n",
       " '7 MARCH, 2024',\n",
       " '6 JULY, 2024',\n",
       " '7 JULY, 2024',\n",
       " '10 JULY, 2024',\n",
       " '13 JULY, 2024',\n",
       " '14 JULY, 2024']"
      ]
     },
     "execution_count": 18,
     "metadata": {},
     "output_type": "execute_result"
    }
   ],
   "source": [
    "Date_tag"
   ]
  },
  {
   "cell_type": "code",
   "execution_count": 24,
   "id": "45b27fb3",
   "metadata": {},
   "outputs": [],
   "source": [
    "Time_tag=[]\n",
    "title_tags=driver.find_elements(By.XPATH,'//div[@class=\"match-time no-margin ng-binding\"]')\n",
    "for i in title_tags:\n",
    "    title=i.text\n",
    "    Time_tag.append(title)"
   ]
  },
  {
   "cell_type": "code",
   "execution_count": 25,
   "id": "bc96681a",
   "metadata": {},
   "outputs": [
    {
     "data": {
      "text/plain": [
       "['9:30 AM IST',\n",
       " '9:30 AM IST',\n",
       " '8:00 PM IST',\n",
       " '8:00 PM IST',\n",
       " '8:00 PM IST',\n",
       " '8:00 PM IST',\n",
       " '8:00 PM IST']"
      ]
     },
     "execution_count": 25,
     "metadata": {},
     "output_type": "execute_result"
    }
   ],
   "source": [
    "Time_tag"
   ]
  },
  {
   "cell_type": "markdown",
   "id": "030e8c5c",
   "metadata": {},
   "source": [
    "# Q3"
   ]
  },
  {
   "cell_type": "code",
   "execution_count": 26,
   "id": "a277007d",
   "metadata": {},
   "outputs": [],
   "source": [
    "driver=webdriver.Chrome()\n",
    "driver.get(\"https://statisticstimes.com/\")"
   ]
  },
  {
   "cell_type": "code",
   "execution_count": 27,
   "id": "d4ec7636",
   "metadata": {},
   "outputs": [],
   "source": [
    "driver.get(\"https://statisticstimes.com/economy/india/indian-states-gdp.php\")"
   ]
  },
  {
   "cell_type": "code",
   "execution_count": 28,
   "id": "d2ad3adc",
   "metadata": {},
   "outputs": [],
   "source": [
    "Rank_tag=[]\n",
    "title_tags=driver.find_elements(By.XPATH,'//td[@class=\"data1\"]')\n",
    "for i in title_tags:\n",
    "    title=i.text\n",
    "    Rank_tag.append(title)"
   ]
  },
  {
   "cell_type": "code",
   "execution_count": 29,
   "id": "3f347aff",
   "metadata": {},
   "outputs": [
    {
     "data": {
      "text/plain": [
       "['1',\n",
       " '2',\n",
       " '3',\n",
       " '4',\n",
       " '5',\n",
       " '6',\n",
       " '7',\n",
       " '8',\n",
       " '9',\n",
       " '10',\n",
       " '11',\n",
       " '12',\n",
       " '13',\n",
       " '14',\n",
       " '15',\n",
       " '16',\n",
       " '17',\n",
       " '18',\n",
       " '19',\n",
       " '20',\n",
       " '21',\n",
       " '22',\n",
       " '23',\n",
       " '24',\n",
       " '25',\n",
       " '26',\n",
       " '27',\n",
       " '28',\n",
       " '29',\n",
       " '30',\n",
       " '31',\n",
       " '32',\n",
       " '33',\n",
       " '',\n",
       " '1',\n",
       " '2',\n",
       " '3',\n",
       " '4',\n",
       " '5',\n",
       " '6',\n",
       " '7',\n",
       " '8',\n",
       " '9',\n",
       " '10',\n",
       " '11',\n",
       " '12',\n",
       " '13',\n",
       " '14',\n",
       " '15',\n",
       " '16',\n",
       " '17',\n",
       " '18',\n",
       " '19',\n",
       " '20',\n",
       " '21',\n",
       " '22',\n",
       " '23',\n",
       " '24',\n",
       " '25',\n",
       " '26',\n",
       " '27',\n",
       " '28',\n",
       " '29',\n",
       " '30',\n",
       " '31',\n",
       " '32',\n",
       " '33',\n",
       " '']"
      ]
     },
     "execution_count": 29,
     "metadata": {},
     "output_type": "execute_result"
    }
   ],
   "source": [
    "Rank_tag"
   ]
  },
  {
   "cell_type": "code",
   "execution_count": 30,
   "id": "7b71e9fa",
   "metadata": {},
   "outputs": [],
   "source": [
    "State_tag=[]\n",
    "title_tags=driver.find_elements(By.XPATH,'//td[@class=\"name\"]')\n",
    "for i in title_tags:\n",
    "    title=i.text\n",
    "    State_tag.append(title)"
   ]
  },
  {
   "cell_type": "code",
   "execution_count": 31,
   "id": "6232eda9",
   "metadata": {},
   "outputs": [
    {
     "data": {
      "text/plain": [
       "['Maharashtra',\n",
       " 'Tamil Nadu',\n",
       " 'Uttar Pradesh',\n",
       " 'Karnataka',\n",
       " 'Gujarat',\n",
       " 'West Bengal',\n",
       " 'Rajasthan',\n",
       " 'Madhya Pradesh',\n",
       " 'Andhra Pradesh',\n",
       " 'Telangana',\n",
       " 'Kerala',\n",
       " 'Delhi',\n",
       " 'Haryana',\n",
       " 'Odisha',\n",
       " 'Bihar',\n",
       " 'Punjab',\n",
       " 'Assam',\n",
       " 'Chhattisgarh',\n",
       " 'Jharkhand',\n",
       " 'Uttarakhand',\n",
       " 'Jammu & Kashmir-UT',\n",
       " 'Himachal Pradesh',\n",
       " 'Goa',\n",
       " 'Tripura',\n",
       " 'Chandigarh',\n",
       " 'Puducherry',\n",
       " 'Meghalaya',\n",
       " 'Sikkim',\n",
       " 'Manipur',\n",
       " 'Arunachal Pradesh',\n",
       " 'Nagaland',\n",
       " 'Mizoram',\n",
       " 'Andaman & Nicobar Islands',\n",
       " 'India',\n",
       " 'Maharashtra',\n",
       " 'Tamil Nadu',\n",
       " 'Karnataka',\n",
       " 'Uttar Pradesh',\n",
       " 'Gujarat',\n",
       " 'West Bengal',\n",
       " 'Rajasthan',\n",
       " 'Madhya Pradesh',\n",
       " 'Telangana',\n",
       " 'Andhra Pradesh',\n",
       " 'Kerala',\n",
       " 'Delhi',\n",
       " 'Haryana',\n",
       " 'Bihar',\n",
       " 'Odisha',\n",
       " 'Punjab',\n",
       " 'Assam',\n",
       " 'Chhattisgarh',\n",
       " 'Jharkhand',\n",
       " 'Uttarakhand',\n",
       " 'Jammu & Kashmir-UT',\n",
       " 'Himachal Pradesh',\n",
       " 'Goa',\n",
       " 'Tripura',\n",
       " 'Chandigarh',\n",
       " 'Puducherry',\n",
       " 'Meghalaya',\n",
       " 'Manipur',\n",
       " 'Arunachal Pradesh',\n",
       " 'Sikkim',\n",
       " 'Nagaland',\n",
       " 'Mizoram',\n",
       " 'Andaman & Nicobar Islands',\n",
       " 'India']"
      ]
     },
     "execution_count": 31,
     "metadata": {},
     "output_type": "execute_result"
    }
   ],
   "source": [
    "State_tag"
   ]
  },
  {
   "cell_type": "code",
   "execution_count": 32,
   "id": "308d0603",
   "metadata": {},
   "outputs": [],
   "source": [
    "Title_tag=[]\n",
    "title_tags=driver.find_elements(By.XPATH,'//tr[@role=\"row\"]')\n",
    "for i in title_tags:\n",
    "    title=i.text\n",
    "    Title_tag.append(title)"
   ]
  },
  {
   "cell_type": "code",
   "execution_count": 33,
   "id": "8cc652da",
   "metadata": {},
   "outputs": [
    {
     "data": {
      "text/plain": [
       "['Rank State GSDP (Cr INR at Current prices) Share GDP ($billion) GSDP (Cr INR at 2011-12 prices)',\n",
       " '22-23 21-22 21-22 2021 22-23 21-22',\n",
       " '1 Maharashtra - 3,108,022 13.24% 417.163 - 2,027,971',\n",
       " '2 Tamil Nadu 2,364,514 2,071,286 8.82% 278.011 1,453,321 1,343,287',\n",
       " '3 Uttar Pradesh 2,257,575 1,974,532 8.41% 265.024 1,304,678 1,204,660',\n",
       " '4 Karnataka 2,241,368 1,962,725 8.36% 263.440 1,326,319 1,229,713',\n",
       " '5 Gujarat - 1,937,066 8.25% 259.996 - 1,372,204',\n",
       " '6 West Bengal 1,554,992 1,363,926 5.81% 183.068 854,023 787,758',\n",
       " '7 Rajasthan 1,413,620 1,218,193 5.19% 163.507 799,449 738,922',\n",
       " '8 Madhya Pradesh 1,322,821 1,136,137 4.84% 152.494 643,124 600,689',\n",
       " '9 Andhra Pradesh 1,317,728 1,133,837 4.83% 152.185 754,338 704,889',\n",
       " '10 Telangana 1,313,391 1,128,907 4.81% 151.523 726,707 674,371',\n",
       " '11 Kerala - 932,470 3.97% 125.157 - 572,747',\n",
       " '12 Delhi 1,043,759 904,642 3.85% 121.422 652,649 597,765',\n",
       " '13 Haryana 994,154 870,665 3.71% 116.862 608,420 568,086',\n",
       " '14 Odisha 774,869 670,881 2.86% 90.047 463,859 432,960',\n",
       " '15 Bihar 751,396 650,302 2.77% 87.284 442,473 399,930',\n",
       " '16 Punjab 673,107 614,227 2.62% 82.442 461,539 433,769',\n",
       " '17 Assam 493,167 412,612 1.76% 55.381 289,192 262,523',\n",
       " '18 Chhattisgarh 457,608 406,416 1.73% 54.550 289,082 267,681',\n",
       " '19 Jharkhand 393,722 358,863 1.53% 48.167 259,800 243,348',\n",
       " '20 Uttarakhand 302,621 272,159 1.16% 36.530 207,104 193,412',\n",
       " '21 Jammu & Kashmir-UT 227,927 199,917 0.85% 26.833 134,716 124,728',\n",
       " '22 Himachal Pradesh 195,405 176,269 0.75% 23.659 134,576 126,433',\n",
       " '23 Goa - 82,604 0.35% 11.087 - 55,548',\n",
       " '24 Tripura 72,636 62,550 0.27% 8.396 42,997 39,487',\n",
       " '25 Chandigarh - 45,635 0.19% 6.125 - 30,287',\n",
       " '26 Puducherry - 44,238 0.19% 5.938 - 27,834',\n",
       " '27 Meghalaya 42,697 38,785 0.17% 5.206 25,209 24,267',\n",
       " '28 Sikkim 42,756 37,557 0.16% 5.041 22,144 20,728',\n",
       " '29 Manipur - 36,594 0.16% 4.912 - 20,515',\n",
       " '30 Arunachal Pradesh - 35,124 0.15% 4.714 - 19,801',\n",
       " '31 Nagaland - 31,913 0.14% 4.283 - 18,363',\n",
       " '32 Mizoram - 27,824 0.12% 3.735 - 18,494',\n",
       " '33 Andaman & Nicobar Islands - 10,371 0.04% 1.392 - 7,172',\n",
       " 'Rank State NSDP (Cr INR at Current prices) Share NSDP (Cr INR at 2011-12 prices)',\n",
       " '22-23 21-22 21-22 22-23 21-22',\n",
       " '1 Maharashtra - 2,690,525 13.24% - 1,731,189',\n",
       " '2 Tamil Nadu 2,115,510 1,854,109 9.12% 1,279,878 1,182,919',\n",
       " '3 Karnataka 2,036,748 1,782,121 8.77% 1,190,851 1,103,468',\n",
       " '4 Uttar Pradesh 1,961,204 1,714,265 8.43% 1,104,608 1,018,963',\n",
       " '5 Gujarat - 1,700,504 8.37% - 1,197,613',\n",
       " '6 West Bengal 1,397,956 1,228,065 6.04% 747,177 687,744',\n",
       " '7 Rajasthan 1,259,527 1,084,845 5.34% 694,771 642,668',\n",
       " '8 Madhya Pradesh 1,211,113 1,034,988 5.09% 560,168 523,764',\n",
       " '9 Telangana 1,187,082 1,024,205 5.04% 642,207 598,257',\n",
       " '10 Andhra Pradesh 1,165,179 1,006,285 4.95% 655,662 613,759',\n",
       " '11 Kerala - 822,970 4.05% - 523,682',\n",
       " '12 Delhi 942,686 810,260 3.99% 574,424 524,235',\n",
       " '13 Haryana 885,308 779,197 3.83% 542,972 507,992',\n",
       " '14 Bihar 681,761 589,712 2.90% 394,114 356,057',\n",
       " '15 Odisha 691,888 587,900 2.89% 403,222 372,322',\n",
       " '16 Punjab 586,137 537,132 2.64% 398,725 376,417',\n",
       " '17 Assam 427,147 363,161 1.79% 251,688 231,816',\n",
       " '18 Chhattisgarh 402,189 358,407 1.76% 250,841 232,725',\n",
       " '19 Jharkhand 360,689 325,830 1.60% 235,685 219,234',\n",
       " '20 Uttarakhand 270,632 242,728 1.19% 183,359 170,891',\n",
       " '21 Jammu & Kashmir-UT 185,489 162,644 0.80% 105,636 97,720',\n",
       " '22 Himachal Pradesh 165,625 149,242 0.73% 113,566 106,509',\n",
       " '23 Goa - 73,973 0.36% - 48,609',\n",
       " '24 Tripura 65,808 56,226 0.28% 37,917 34,851',\n",
       " '25 Chandigarh - 40,573 0.20% - 26,703',\n",
       " '26 Puducherry - 40,039 0.20% - 24,731',\n",
       " '27 Meghalaya 37,925 34,441 0.17% 21,905 21,096',\n",
       " '28 Manipur - 32,874 0.16% - 17,810',\n",
       " '29 Arunachal Pradesh - 31,669 0.16% - 17,214',\n",
       " '30 Sikkim 35,670 31,519 0.16% 17,832 16,764',\n",
       " '31 Nagaland - 27,859 0.14% - 15,495',\n",
       " '32 Mizoram - 24,293 0.12% - 15,847',\n",
       " '33 Andaman & Nicobar Islands - 9,209 0.05% - 6,558']"
      ]
     },
     "execution_count": 33,
     "metadata": {},
     "output_type": "execute_result"
    }
   ],
   "source": [
    "Title_tag"
   ]
  },
  {
   "cell_type": "code",
   "execution_count": 34,
   "id": "80bd23df",
   "metadata": {},
   "outputs": [],
   "source": [
    "Share_tag=[]\n",
    "title_tags=driver.find_elements(By.XPATH,'//td[@class=\"data sorting_1\"]')\n",
    "for i in title_tags:\n",
    "    title=i.text\n",
    "    Share_tag.append(title)"
   ]
  },
  {
   "cell_type": "code",
   "execution_count": 35,
   "id": "9ac9ae9f",
   "metadata": {},
   "outputs": [
    {
     "data": {
      "text/plain": [
       "['3,108,022',\n",
       " '2,071,286',\n",
       " '1,974,532',\n",
       " '1,962,725',\n",
       " '1,937,066',\n",
       " '1,363,926',\n",
       " '1,218,193',\n",
       " '1,136,137',\n",
       " '1,133,837',\n",
       " '1,128,907',\n",
       " '932,470',\n",
       " '904,642',\n",
       " '870,665',\n",
       " '670,881',\n",
       " '650,302',\n",
       " '614,227',\n",
       " '412,612',\n",
       " '406,416',\n",
       " '358,863',\n",
       " '272,159',\n",
       " '199,917',\n",
       " '176,269',\n",
       " '82,604',\n",
       " '62,550',\n",
       " '45,635',\n",
       " '44,238',\n",
       " '38,785',\n",
       " '37,557',\n",
       " '36,594',\n",
       " '35,124',\n",
       " '31,913',\n",
       " '27,824',\n",
       " '10,371',\n",
       " '2,690,525',\n",
       " '1,854,109',\n",
       " '1,782,121',\n",
       " '1,714,265',\n",
       " '1,700,504',\n",
       " '1,228,065',\n",
       " '1,084,845',\n",
       " '1,034,988',\n",
       " '1,024,205',\n",
       " '1,006,285',\n",
       " '822,970',\n",
       " '810,260',\n",
       " '779,197',\n",
       " '589,712',\n",
       " '587,900',\n",
       " '537,132',\n",
       " '363,161',\n",
       " '358,407',\n",
       " '325,830',\n",
       " '242,728',\n",
       " '162,644',\n",
       " '149,242',\n",
       " '73,973',\n",
       " '56,226',\n",
       " '40,573',\n",
       " '40,039',\n",
       " '34,441',\n",
       " '32,874',\n",
       " '31,669',\n",
       " '31,519',\n",
       " '27,859',\n",
       " '24,293',\n",
       " '9,209']"
      ]
     },
     "execution_count": 35,
     "metadata": {},
     "output_type": "execute_result"
    }
   ],
   "source": [
    "Share_tag"
   ]
  },
  {
   "cell_type": "code",
   "execution_count": 36,
   "id": "74a68a30",
   "metadata": {},
   "outputs": [],
   "source": [
    "GSDP_tag=[]\n",
    "title_tags=driver.find_elements(By.XPATH,'//td[@class=\"data sorting_1\"]')\n",
    "for i in title_tags:\n",
    "    title=i.text\n",
    "    GSDP_tag.append(title)"
   ]
  },
  {
   "cell_type": "code",
   "execution_count": 37,
   "id": "44693833",
   "metadata": {},
   "outputs": [
    {
     "data": {
      "text/plain": [
       "['3,108,022',\n",
       " '2,071,286',\n",
       " '1,974,532',\n",
       " '1,962,725',\n",
       " '1,937,066',\n",
       " '1,363,926',\n",
       " '1,218,193',\n",
       " '1,136,137',\n",
       " '1,133,837',\n",
       " '1,128,907',\n",
       " '932,470',\n",
       " '904,642',\n",
       " '870,665',\n",
       " '670,881',\n",
       " '650,302',\n",
       " '614,227',\n",
       " '412,612',\n",
       " '406,416',\n",
       " '358,863',\n",
       " '272,159',\n",
       " '199,917',\n",
       " '176,269',\n",
       " '82,604',\n",
       " '62,550',\n",
       " '45,635',\n",
       " '44,238',\n",
       " '38,785',\n",
       " '37,557',\n",
       " '36,594',\n",
       " '35,124',\n",
       " '31,913',\n",
       " '27,824',\n",
       " '10,371',\n",
       " '2,690,525',\n",
       " '1,854,109',\n",
       " '1,782,121',\n",
       " '1,714,265',\n",
       " '1,700,504',\n",
       " '1,228,065',\n",
       " '1,084,845',\n",
       " '1,034,988',\n",
       " '1,024,205',\n",
       " '1,006,285',\n",
       " '822,970',\n",
       " '810,260',\n",
       " '779,197',\n",
       " '589,712',\n",
       " '587,900',\n",
       " '537,132',\n",
       " '363,161',\n",
       " '358,407',\n",
       " '325,830',\n",
       " '242,728',\n",
       " '162,644',\n",
       " '149,242',\n",
       " '73,973',\n",
       " '56,226',\n",
       " '40,573',\n",
       " '40,039',\n",
       " '34,441',\n",
       " '32,874',\n",
       " '31,669',\n",
       " '31,519',\n",
       " '27,859',\n",
       " '24,293',\n",
       " '9,209']"
      ]
     },
     "execution_count": 37,
     "metadata": {},
     "output_type": "execute_result"
    }
   ],
   "source": [
    "GSDP_tag"
   ]
  },
  {
   "cell_type": "markdown",
   "id": "21976184",
   "metadata": {},
   "source": [
    "# Q4"
   ]
  },
  {
   "cell_type": "code",
   "execution_count": 38,
   "id": "07fe78b4",
   "metadata": {},
   "outputs": [],
   "source": [
    "driver=webdriver.Chrome()\n",
    "driver.get(\" https://github.com/\")"
   ]
  },
  {
   "cell_type": "code",
   "execution_count": 39,
   "id": "36533c0f",
   "metadata": {},
   "outputs": [],
   "source": [
    "Trend_tag=[]\n",
    "title_tags=driver.find_elements(By.XPATH,'//a[@class=\"HeaderMenu-dropdown-link lh-condensed d-block no-underline position-relative py-2 Link--secondary\"]')\n",
    "for i in title_tags:\n",
    "    title=i.text\n",
    "    Trend_tag.append(i.get_attribute(\"href\"))"
   ]
  },
  {
   "cell_type": "code",
   "execution_count": 40,
   "id": "53cae884",
   "metadata": {},
   "outputs": [
    {
     "data": {
      "text/plain": [
       "['https://github.com/features',\n",
       " 'https://docs.github.com/',\n",
       " 'https://skills.github.com/',\n",
       " 'https://github.blog/',\n",
       " 'https://github.com/enterprise',\n",
       " 'https://github.com/team',\n",
       " 'https://github.com/enterprise/startups',\n",
       " 'https://education.github.com/',\n",
       " 'https://github.com/solutions/ci-cd/',\n",
       " 'https://github.com/solutions/devops/',\n",
       " 'https://resources.github.com/devops/fundamentals/devsecops/',\n",
       " 'https://resources.github.com/learn/pathways/',\n",
       " 'https://resources.github.com/',\n",
       " 'https://github.com/customer-stories',\n",
       " 'https://partner.github.com/',\n",
       " 'https://github.com/topics',\n",
       " 'https://github.com/trending',\n",
       " 'https://github.com/collections']"
      ]
     },
     "execution_count": 40,
     "metadata": {},
     "output_type": "execute_result"
    }
   ],
   "source": [
    "Trend_tag"
   ]
  },
  {
   "cell_type": "code",
   "execution_count": 41,
   "id": "f36ab4d2",
   "metadata": {},
   "outputs": [],
   "source": [
    "driver.get(\" https://github.com/trending\")"
   ]
  },
  {
   "cell_type": "code",
   "execution_count": 43,
   "id": "245f9685",
   "metadata": {},
   "outputs": [],
   "source": [
    "Repositorytitle_tag=[]\n",
    "title_tags=driver.find_elements(By.XPATH,'//span[@class=\"text-normal\"]')\n",
    "for i in title_tags:\n",
    "    title=i.text\n",
    "    Repositorytitle_tag.append(title)"
   ]
  },
  {
   "cell_type": "code",
   "execution_count": 44,
   "id": "455e9df1",
   "metadata": {},
   "outputs": [
    {
     "data": {
      "text/plain": [
       "['WongKinYiu /',\n",
       " 'mttaggart /',\n",
       " 'google /',\n",
       " 'jackfrued /',\n",
       " 'levihsu /',\n",
       " 'google-deepmind /',\n",
       " 'google /',\n",
       " 'hiddify /',\n",
       " 'SoraWebui /',\n",
       " 'NoteProtocol /',\n",
       " 'vvbbnn00 /',\n",
       " 'lobehub /',\n",
       " 'danswer-ai /',\n",
       " 'gunnarmorling /',\n",
       " 'pytorch /',\n",
       " 'lencx /',\n",
       " 'apache /',\n",
       " 'MegaManSec /',\n",
       " 'systemdesign42 /',\n",
       " 'qarmin /',\n",
       " 'lowRISC /',\n",
       " 'facebook /',\n",
       " 'ashishps1 /',\n",
       " 'chatchat-space /',\n",
       " 'zksync /']"
      ]
     },
     "execution_count": 44,
     "metadata": {},
     "output_type": "execute_result"
    }
   ],
   "source": [
    "Repositorytitle_tag"
   ]
  },
  {
   "cell_type": "code",
   "execution_count": 45,
   "id": "e73f3970",
   "metadata": {},
   "outputs": [],
   "source": [
    "Repositorytitle_tag=[]\n",
    "title_tags=driver.find_elements(By.XPATH,'//p[@class=\"col-9 color-fg-muted my-1 pr-4\"]')\n",
    "for i in title_tags:\n",
    "    title=i.text\n",
    "    Repositorytitle_tag.append(title)"
   ]
  },
  {
   "cell_type": "code",
   "execution_count": 46,
   "id": "5912cc18",
   "metadata": {},
   "outputs": [
    {
     "data": {
      "text/plain": [
       "['Implementation of paper - YOLOv9: Learning What You Want to Learn Using Programmable Gradient Information',\n",
       " 'Anxun Shanghai (I-SOON) Data Dump Translations (PII Redacted)',\n",
       " \"The official PyTorch implementation of Google's Gemma models\",\n",
       " 'Python - 100天从新手到大师',\n",
       " 'Official implementation of OOTDiffusion: Outfitting Fusion based Latent Diffusion for Controllable Virtual Try-on',\n",
       " 'Open weights LLM from Google DeepMind.',\n",
       " \"lightweight, standalone C++ inference engine for Google's Gemma models.\",\n",
       " 'Multi-platform auto-proxy client, supporting Sing-box, X-ray, TUIC, Hysteria, Reality, Trojan, SSH etc. It’s an open-source, secure and ad-free.',\n",
       " \"SoraWebui is an open-source Sora web client, enabling users to easily create videos from text with OpenAI's Sora model.\",\n",
       " 'A Command Line Wallet to Send/Receive BTC and NOTE Tokens',\n",
       " '该项目可以让你通过订阅的方式使用Cloudflare WARP+，自动获取流量。This project enables you to use Cloudflare WARP+ through subscription, automatically acquiring traffic.',\n",
       " '🤯 Lobe Chat - an open-source, modern-design ChatGPT/LLMs UI/Framework. Supports speech-synthesis, multi-modal, and extensible plugin system. One-click FREE deployment of your private ChatGPT/Gemini/Ollama chat application.',\n",
       " 'Ask Questions in natural language and get Answers backed by private sources. Connects to tools like Slack, GitHub, Confluence, etc.',\n",
       " '1️⃣🐝🏎️ The One Billion Row Challenge -- A fun exploration of how quickly 1B rows from a text file can be aggregated with Java',\n",
       " 'Tensors and Dynamic neural networks in Python with strong GPU acceleration',\n",
       " '🚀 Power Your World with AI - Explore, Extend, Empower.',\n",
       " 'Apache ECharts is a powerful, interactive charting and data visualization library for browser',\n",
       " 'SSH-Snake is a self-propagating, self-replicating, file-less script that automates the post-exploitation task of SSH private key and host discovery.',\n",
       " 'Building the best system design resource in the internet',\n",
       " 'Multi functional app to find duplicates, empty folders, similar images etc.',\n",
       " 'OpenTitan: Open source silicon root of trust',\n",
       " 'A framework for building native applications using React',\n",
       " 'This repository contains System Design resources which are useful while preparing for interviews and learning Distributed Systems',\n",
       " 'Langchain-Chatchat（原Langchain-ChatGLM）基于 Langchain 与 ChatGLM 等语言模型的本地知识库问答 | Langchain-Chatchat (formerly langchain-ChatGLM), local knowledge based LLM (like ChatGLM) QA app with langchain']"
      ]
     },
     "execution_count": 46,
     "metadata": {},
     "output_type": "execute_result"
    }
   ],
   "source": [
    "Repositorytitle_tag"
   ]
  },
  {
   "cell_type": "code",
   "execution_count": 47,
   "id": "6f6fa38d",
   "metadata": {},
   "outputs": [],
   "source": [
    "LanguageUsed_tag=[]\n",
    "title_tags=driver.find_elements(By.XPATH,'//span[@class=\"d-inline-block ml-0 mr-3\"]')\n",
    "for i in title_tags:\n",
    "    title=i.text\n",
    "    LanguageUsed_tag.append(title)"
   ]
  },
  {
   "cell_type": "code",
   "execution_count": 48,
   "id": "0dc855bd",
   "metadata": {},
   "outputs": [
    {
     "data": {
      "text/plain": [
       "['Python',\n",
       " 'Python',\n",
       " 'Python',\n",
       " 'Python',\n",
       " 'Jupyter Notebook',\n",
       " 'C++',\n",
       " 'Dart',\n",
       " 'TypeScript',\n",
       " 'TypeScript',\n",
       " 'Python',\n",
       " 'TypeScript',\n",
       " 'Python',\n",
       " 'Java',\n",
       " 'Python',\n",
       " 'JavaScript',\n",
       " 'TypeScript',\n",
       " 'Shell',\n",
       " 'Rust',\n",
       " 'SystemVerilog',\n",
       " 'C++',\n",
       " 'Python']"
      ]
     },
     "execution_count": 48,
     "metadata": {},
     "output_type": "execute_result"
    }
   ],
   "source": [
    "LanguageUsed_tag"
   ]
  },
  {
   "cell_type": "code",
   "execution_count": null,
   "id": "21fe173b",
   "metadata": {},
   "outputs": [],
   "source": [
    "ContrubutorsCount_tag=[]\n",
    "title_tags=driver.find_elements(By.XPATH,'//span[@class=\"d-inline-block ml-0 mr-3\"]')\n",
    "for i in title_tags:\n",
    "    title=i.text\n",
    "    ContrubutorsCount_tag.append(title)"
   ]
  },
  {
   "cell_type": "markdown",
   "id": "da6f5975",
   "metadata": {},
   "source": [
    "# Q5"
   ]
  },
  {
   "cell_type": "code",
   "execution_count": 49,
   "id": "fae5809c",
   "metadata": {},
   "outputs": [],
   "source": [
    "driver=webdriver.Chrome()\n",
    "driver.get(\"https://www.billboard.com/charts/\")"
   ]
  },
  {
   "cell_type": "code",
   "execution_count": 50,
   "id": "7c673a0a",
   "metadata": {},
   "outputs": [],
   "source": [
    "search=driver.find_element(By.XPATH,'//div[@class=\"lrv-u-flex lrv-u-justify-content-center\"]')\n",
    "search.click()"
   ]
  },
  {
   "cell_type": "code",
   "execution_count": 51,
   "id": "b71d90bd",
   "metadata": {},
   "outputs": [],
   "source": [
    "SongName_tag=[]\n",
    "title_tags=driver.find_elements(By.XPATH,'//h3[@class=\"c-title  a-no-trucate a-font-primary-bold-s u-letter-spacing-0021 lrv-u-font-size-18@tablet lrv-u-font-size-16 u-line-height-125 u-line-height-normal@mobile-max a-truncate-ellipsis u-max-width-330 u-max-width-230@tablet-only\"]')\n",
    "for i in title_tags:\n",
    "    title=i.text\n",
    "    SongName_tag.append(title)"
   ]
  },
  {
   "cell_type": "code",
   "execution_count": 52,
   "id": "66c67360",
   "metadata": {},
   "outputs": [
    {
     "data": {
      "text/plain": [
       "[\"Texas Hold 'Em\",\n",
       " 'Carnival',\n",
       " 'Beautiful Things',\n",
       " 'Lose Control',\n",
       " 'Cruel Summer',\n",
       " 'Snooze',\n",
       " 'I Remember Everything',\n",
       " 'Greedy',\n",
       " 'Stick Season',\n",
       " 'Fast Car',\n",
       " 'Agora Hills',\n",
       " 'Water',\n",
       " 'Last Night',\n",
       " 'Redrum',\n",
       " \"Thinkin' Bout Me\",\n",
       " 'Flowers',\n",
       " \"Is It Over Now? (Taylor's Version) [From The Vault]\",\n",
       " 'Paint The Town Red',\n",
       " 'Yeah!',\n",
       " 'Never Lose Me',\n",
       " 'La Diabla',\n",
       " 'Fuk Sumn',\n",
       " 'Pretty Little Poison',\n",
       " 'Houdini',\n",
       " 'Back To Me',\n",
       " 'What Was I Made For?',\n",
       " 'Forever',\n",
       " 'Where The Wild Things Are',\n",
       " 'Talking',\n",
       " 'Yes, And?',\n",
       " 'Made For Me',\n",
       " 'Burn',\n",
       " 'Vultures',\n",
       " 'The Painter',\n",
       " 'Good Good',\n",
       " 'Selfish',\n",
       " '16 Carriages',\n",
       " 'Stars',\n",
       " 'Everybody',\n",
       " 'Rich Baby Daddy',\n",
       " 'Feather',\n",
       " 'Vampire',\n",
       " 'On My Mama',\n",
       " 'Wild Ones',\n",
       " 'Dance The Night',\n",
       " 'Save Me',\n",
       " 'Hiss',\n",
       " 'Exes',\n",
       " 'Need A Favor',\n",
       " 'Truck Bed',\n",
       " 'Do It',\n",
       " 'Paid',\n",
       " 'Surround Sound',\n",
       " 'Keys To My Life',\n",
       " 'World On Fire',\n",
       " 'First Person Shooter',\n",
       " 'La Victima',\n",
       " 'Get In With Me',\n",
       " 'Burn It Down',\n",
       " 'Standing Next To You',\n",
       " 'Think U The Shit (Fart)',\n",
       " 'Praise Jah In The Moonlight',\n",
       " 'Paperwork',\n",
       " 'Beg Forgiveness',\n",
       " 'Man Made A Bar',\n",
       " 'Hoodrat',\n",
       " 'One Call',\n",
       " 'Igual Que Un Angel',\n",
       " 'Spin You Around (1/24)',\n",
       " 'FTCU',\n",
       " 'One Of The Girls',\n",
       " 'Murder On The Dancefloor',\n",
       " 'You Broke My Heart',\n",
       " 'Northern Attitude',\n",
       " 'FE!N',\n",
       " '23',\n",
       " 'Bandit',\n",
       " 'Problematic',\n",
       " 'Nee-nah',\n",
       " 'Act II: Date @ 8',\n",
       " 'I Can Feel It',\n",
       " \"Mamaw's House\",\n",
       " 'Soak City',\n",
       " 'Harley Quinn',\n",
       " \"You're Gonna Go Far\",\n",
       " 'Bellakeo',\n",
       " 'IDGAF',\n",
       " 'Yeah Glo!',\n",
       " \"Different 'Round Here\",\n",
       " 'She Calls Me Back',\n",
       " \"We Don't Fight Anymore\",\n",
       " \"Good (Don't Die)\",\n",
       " 'King',\n",
       " 'Coal',\n",
       " 'Mmhmm',\n",
       " 'Monaco',\n",
       " 'Prove It',\n",
       " 'Perro Negro',\n",
       " 'Sunday Service']"
      ]
     },
     "execution_count": 52,
     "metadata": {},
     "output_type": "execute_result"
    }
   ],
   "source": [
    "SongName_tag"
   ]
  },
  {
   "cell_type": "code",
   "execution_count": 54,
   "id": "7baaca4e",
   "metadata": {},
   "outputs": [],
   "source": [
    "ArtistName_tag=[]\n",
    "title_tags=driver.find_elements(By.XPATH,'//span[@class=\"c-label  a-no-trucate a-font-primary-s lrv-u-font-size-14@mobile-max u-line-height-normal@mobile-max u-letter-spacing-0021 lrv-u-display-block a-truncate-ellipsis-2line u-max-width-330 u-max-width-230@tablet-only\"]')\n",
    "for i in title_tags:\n",
    "    title=i.text\n",
    "    ArtistName_tag.append(title)"
   ]
  },
  {
   "cell_type": "code",
   "execution_count": 55,
   "id": "9503760f",
   "metadata": {},
   "outputs": [
    {
     "data": {
      "text/plain": [
       "['Beyonce',\n",
       " '¥$: Kanye West & Ty Dolla $ign Featuring Rich The Kid & Playboi Carti',\n",
       " 'Benson Boone',\n",
       " 'Teddy Swims',\n",
       " 'Taylor Swift',\n",
       " 'SZA',\n",
       " 'Zach Bryan Featuring Kacey Musgraves',\n",
       " 'Tate McRae',\n",
       " 'Noah Kahan',\n",
       " 'Luke Combs',\n",
       " 'Doja Cat',\n",
       " 'Tyla',\n",
       " 'Morgan Wallen',\n",
       " '21 Savage',\n",
       " 'Morgan Wallen',\n",
       " 'Miley Cyrus',\n",
       " 'Taylor Swift',\n",
       " 'Doja Cat',\n",
       " 'Usher Featuring Lil Jon & Ludacris',\n",
       " 'Flo Milli',\n",
       " 'Xavi',\n",
       " '¥$: Kanye West & Ty Dolla $ign',\n",
       " 'Warren Zeiders',\n",
       " 'Dua Lipa',\n",
       " '¥$: Kanye West & Ty Dolla $ign',\n",
       " 'Billie Eilish',\n",
       " 'Noah Kahan',\n",
       " 'Luke Combs',\n",
       " '¥$: Kanye West & Ty Dolla $ign Featuring North West',\n",
       " 'Ariana Grande',\n",
       " 'Muni Long',\n",
       " '¥$: Kanye West & Ty Dolla $ign',\n",
       " '¥$: Kanye West & Ty Dolla $ign Featuring Lil Durk & Bump J',\n",
       " 'Cody Johnson',\n",
       " 'Usher, Summer Walker & 21 Savage',\n",
       " 'Justin Timberlake',\n",
       " 'Beyonce',\n",
       " '¥$: Kanye West & Ty Dolla $ign',\n",
       " 'Nicki Minaj Featuring Lil Uzi Vert',\n",
       " 'Drake Featuring Sexyy Red & SZA',\n",
       " 'Sabrina Carpenter',\n",
       " 'Olivia Rodrigo',\n",
       " 'Victoria Monet',\n",
       " 'Jessie Murph & Jelly Roll',\n",
       " 'Dua Lipa',\n",
       " 'Jelly Roll With Lainey Wilson',\n",
       " 'Megan Thee Stallion',\n",
       " 'Tate McRae',\n",
       " 'Jelly Roll',\n",
       " 'HARDY',\n",
       " '¥$: Kanye West & Ty Dolla $ign',\n",
       " '¥$: Kanye West & Ty Dolla $ign',\n",
       " 'JID Featuring 21 Savage & Baby Tate',\n",
       " '¥$: Kanye West & Ty Dolla $ign',\n",
       " 'Nate Smith',\n",
       " 'Drake Featuring J. Cole',\n",
       " 'Xavi',\n",
       " 'BossMan Dlow',\n",
       " 'Parker McCollum',\n",
       " 'Jung Kook',\n",
       " 'Ice Spice',\n",
       " 'YG Marley',\n",
       " '¥$: Kanye West & Ty Dolla $ign',\n",
       " '¥$: Kanye West & Ty Dolla $ign',\n",
       " 'Morgan Wallen Featuring Eric Church',\n",
       " '¥$: Kanye West & Ty Dolla $ign',\n",
       " 'Rich Amiri',\n",
       " 'Kali Uchis & Peso Pluma',\n",
       " 'Morgan Wallen',\n",
       " 'Nicki Minaj',\n",
       " 'The Weeknd, Jennie & Lily Rose Depp',\n",
       " 'Sophie Ellis-Bextor',\n",
       " 'Drake',\n",
       " 'Noah Kahan With Hozier',\n",
       " 'Travis Scott Featuring Playboi Carti',\n",
       " 'Chayce Beckham',\n",
       " 'Don Toliver',\n",
       " '¥$: Kanye West & Ty Dolla $ign',\n",
       " '21 Savage, Travis Scott & Metro Boomin',\n",
       " '4Batz',\n",
       " 'Kane Brown',\n",
       " 'Thomas Rhett Featuring Morgan Wallen',\n",
       " '310babii',\n",
       " 'Fuerza Regida & Marshmello',\n",
       " 'Noah Kahan',\n",
       " 'Peso Pluma & Anitta',\n",
       " 'Drake Featuring Yeat',\n",
       " 'GloRilla',\n",
       " 'Riley Green Featuring Luke Combs',\n",
       " 'Noah Kahan With Kacey Musgraves',\n",
       " 'Carly Pearce Featuring Chris Stapleton',\n",
       " '¥$: Kanye West & Ty Dolla $ign',\n",
       " '¥$: Kanye West & Ty Dolla $ign',\n",
       " 'Dylan Gossett',\n",
       " 'BigXthaPlug',\n",
       " 'Bad Bunny',\n",
       " '21 Savage & Summer Walker',\n",
       " 'Bad Bunny & Feid',\n",
       " 'Latto']"
      ]
     },
     "execution_count": 55,
     "metadata": {},
     "output_type": "execute_result"
    }
   ],
   "source": [
    "ArtistName_tag"
   ]
  },
  {
   "cell_type": "code",
   "execution_count": null,
   "id": "b7a5f19e",
   "metadata": {},
   "outputs": [],
   "source": [
    "driver.execute_script(\"window.scroll By(0,100)\")\n",
    "\n",
    "Latweekrank_tag=[]\n",
    "title_tags=driver.find_elements(By.XPATH,)\n",
    "for i in title_tags:\n",
    "    title=i.text\n",
    "    Latweekrank_tag.append(title)\n",
    "    \n",
    "    "
   ]
  },
  {
   "cell_type": "markdown",
   "id": "4c604a4c",
   "metadata": {},
   "source": [
    "# Q6"
   ]
  },
  {
   "cell_type": "code",
   "execution_count": 56,
   "id": "6fa6df56",
   "metadata": {},
   "outputs": [],
   "source": [
    "driver=webdriver.Chrome()\n",
    "driver.get(\"https://www.theguardian.com/news/datablog/2012/aug/09/best-selling-books-all-time-fifty-shades-grey-compare\")"
   ]
  },
  {
   "cell_type": "code",
   "execution_count": 60,
   "id": "db4876da",
   "metadata": {},
   "outputs": [],
   "source": [
    "Genre_tag=[]\n",
    "title_tags=driver.find_elements(By.XPATH,'//td[@class=\"last left\"]')\n",
    "for i in title_tags:\n",
    "    title=i.text\n",
    "    Genre_tag.append(title)"
   ]
  },
  {
   "cell_type": "code",
   "execution_count": 61,
   "id": "2281192c",
   "metadata": {},
   "outputs": [
    {
     "data": {
      "text/plain": [
       "['Crime, Thriller & Adventure',\n",
       " \"Children's Fiction\",\n",
       " \"Children's Fiction\",\n",
       " \"Children's Fiction\",\n",
       " 'Romance & Sagas',\n",
       " \"Children's Fiction\",\n",
       " \"Children's Fiction\",\n",
       " \"Children's Fiction\",\n",
       " 'Crime, Thriller & Adventure',\n",
       " \"Children's Fiction\",\n",
       " 'Romance & Sagas',\n",
       " 'Young Adult Fiction',\n",
       " 'Crime, Thriller & Adventure',\n",
       " 'Romance & Sagas',\n",
       " 'Crime, Thriller & Adventure',\n",
       " 'Young Adult Fiction',\n",
       " 'Crime, Thriller & Adventure',\n",
       " 'Young Adult Fiction',\n",
       " 'General & Literary Fiction',\n",
       " 'General & Literary Fiction',\n",
       " 'Crime, Thriller & Adventure',\n",
       " 'Popular Science',\n",
       " 'Crime, Thriller & Adventure',\n",
       " 'Young Adult Fiction',\n",
       " 'Picture Books',\n",
       " 'Picture Books',\n",
       " 'Food & Drink: General',\n",
       " 'General & Literary Fiction',\n",
       " 'General & Literary Fiction',\n",
       " 'General & Literary Fiction',\n",
       " 'Crime, Thriller & Adventure',\n",
       " 'General & Literary Fiction',\n",
       " 'General & Literary Fiction',\n",
       " 'General & Literary Fiction',\n",
       " 'Humour: Collections & General',\n",
       " 'General & Literary Fiction',\n",
       " 'Autobiography: General',\n",
       " 'General & Literary Fiction',\n",
       " 'Biography: The Arts',\n",
       " 'Autobiography: General',\n",
       " 'Picture Books',\n",
       " 'Autobiography: General',\n",
       " 'General & Literary Fiction',\n",
       " 'Young Adult Fiction',\n",
       " 'General & Literary Fiction',\n",
       " 'Science Fiction & Fantasy',\n",
       " 'General & Literary Fiction',\n",
       " 'General & Literary Fiction',\n",
       " 'General & Literary Fiction',\n",
       " 'Crime, Thriller & Adventure',\n",
       " 'General & Literary Fiction',\n",
       " 'General & Literary Fiction',\n",
       " 'Fitness & Diet',\n",
       " 'General & Literary Fiction',\n",
       " \"Children's Fiction\",\n",
       " 'Crime, Thriller & Adventure',\n",
       " 'Fitness & Diet',\n",
       " 'Young Adult Fiction',\n",
       " 'Usage & Writing Guides',\n",
       " 'Food & Drink: General',\n",
       " 'General & Literary Fiction',\n",
       " 'Young Adult Fiction',\n",
       " 'General & Literary Fiction',\n",
       " 'Young Adult Fiction',\n",
       " 'General & Literary Fiction',\n",
       " 'Popular Culture & Media: General Interest',\n",
       " 'Autobiography: The Arts',\n",
       " 'General & Literary Fiction',\n",
       " 'Crime, Thriller & Adventure',\n",
       " 'Science Fiction & Fantasy',\n",
       " 'Current Affairs & Issues',\n",
       " 'Crime, Thriller & Adventure',\n",
       " 'Autobiography: The Arts',\n",
       " 'General & Literary Fiction',\n",
       " 'Autobiography: The Arts',\n",
       " 'Travel Writing',\n",
       " 'Food & Drink: General',\n",
       " 'General & Literary Fiction',\n",
       " 'National & Regional Cuisine',\n",
       " 'Fitness & Diet',\n",
       " 'Travel Writing',\n",
       " 'Crime, Thriller & Adventure',\n",
       " 'General & Literary Fiction',\n",
       " 'Food & Drink: General',\n",
       " 'General & Literary Fiction',\n",
       " 'General & Literary Fiction',\n",
       " 'Picture Books',\n",
       " 'General & Literary Fiction',\n",
       " 'Autobiography: The Arts',\n",
       " 'Popular Science',\n",
       " \"Children's Annuals\",\n",
       " 'General & Literary Fiction',\n",
       " 'General & Literary Fiction',\n",
       " 'General & Literary Fiction',\n",
       " 'General & Literary Fiction',\n",
       " 'General & Literary Fiction',\n",
       " 'Food & Drink: General',\n",
       " 'Young Adult Fiction',\n",
       " 'Biography: General',\n",
       " 'Food & Drink: General']"
      ]
     },
     "execution_count": 61,
     "metadata": {},
     "output_type": "execute_result"
    }
   ],
   "source": [
    "Genre_tag"
   ]
  },
  {
   "cell_type": "code",
   "execution_count": 62,
   "id": "8845f884",
   "metadata": {},
   "outputs": [],
   "source": [
    "List_tag=[]\n",
    "title_tags=driver.find_elements(By.XPATH,'//tr[@class=\"odd\"]')\n",
    "for i in title_tags:\n",
    "    title=i.text\n",
    "    List_tag.append(title)"
   ]
  },
  {
   "cell_type": "code",
   "execution_count": 63,
   "id": "567c65d7",
   "metadata": {},
   "outputs": [
    {
     "data": {
      "text/plain": [
       "[\"2 Harry Potter and the Deathly Hallows Rowling, J.K. 4,475,152 Bloomsbury Children's Fiction\",\n",
       " \"4 Harry Potter and the Order of the Phoenix Rowling, J.K. 4,179,479 Bloomsbury Children's Fiction\",\n",
       " \"6 Harry Potter and the Goblet of Fire Rowling, J.K. 3,583,215 Bloomsbury Children's Fiction\",\n",
       " \"8 Harry Potter and the Prisoner of Azkaban Rowling, J.K. 3,377,906 Bloomsbury Children's Fiction\",\n",
       " \"10 Harry Potter and the Half-blood Prince:Children's Edition Rowling, J.K. 2,950,264 Bloomsbury Children's Fiction\",\n",
       " '12 Twilight Meyer, Stephenie 2,315,405 Little, Brown Book Young Adult Fiction',\n",
       " '14 Fifty Shades Freed James, E. L. 2,193,928 Random House Romance & Sagas',\n",
       " '16 New Moon Meyer, Stephenie 2,152,737 Little, Brown Book Young Adult Fiction',\n",
       " '18 Eclipse Meyer, Stephenie 2,052,876 Little, Brown Book Young Adult Fiction',\n",
       " '20 Curious Incident of the Dog in the Night-time,The Haddon, Mark 1,979,552 Random House General & Literary Fiction',\n",
       " '22 Short History of Nearly Everything,A Bryson, Bill 1,852,919 Transworld Popular Science',\n",
       " '24 Breaking Dawn Meyer, Stephenie 1,787,118 Little, Brown Book Young Adult Fiction',\n",
       " '26 Gruffalo,The Donaldson, Julia 1,781,269 Pan Macmillan Picture Books',\n",
       " '28 Kite Runner,The Hosseini, Khaled 1,629,119 Bloomsbury General & Literary Fiction',\n",
       " '30 Thousand Splendid Suns,A Hosseini, Khaled 1,583,992 Bloomsbury General & Literary Fiction',\n",
       " \"32 Time Traveler's Wife,The Niffenegger, Audrey 1,546,886 Random House General & Literary Fiction\",\n",
       " \"34 Bridget Jones's Diary:A Novel Fielding, Helen 1,508,205 Pan Macmillan General & Literary Fiction\",\n",
       " \"36 Captain Corelli's Mandolin Bernieres, Louis de 1,352,318 Random House General & Literary Fiction\",\n",
       " '38 Life of Pi Martel, Yann 1,310,176 Canongate General & Literary Fiction',\n",
       " '40 Child Called It,A Pelzer, Dave 1,217,712 Orion Autobiography: General',\n",
       " \"42 Angela's Ashes:A Memoir of a Childhood McCourt, Frank 1,204,058 HarperCollins Autobiography: General\",\n",
       " '44 Northern Lights:His Dark Materials S. Pullman, Philip 1,181,503 Scholastic Ltd. Young Adult Fiction',\n",
       " '46 Harry Potter and the Half-blood Prince Rowling, J.K. 1,153,181 Bloomsbury Science Fiction & Fantasy',\n",
       " '48 Man and Boy Parsons, Tony 1,130,802 HarperCollins General & Literary Fiction',\n",
       " \"50 No.1 Ladies' Detective Agency,The:No.1 Ladies' Detective Agency S. McCall Smith, Alexander 1,115,549 Little, Brown Book Crime, Thriller & Adventure\",\n",
       " '52 PS, I Love You Ahern, Cecelia 1,107,379 HarperCollins General & Literary Fiction',\n",
       " '54 Shadow of the Wind,The Zafon, Carlos Ruiz 1,092,349 Orion General & Literary Fiction',\n",
       " '56 Broker,The Grisham, John 1,087,262 Random House Crime, Thriller & Adventure',\n",
       " '58 Subtle Knife,The:His Dark Materials S. Pullman, Philip 1,037,160 Scholastic Ltd. Young Adult Fiction',\n",
       " \"60 Delia's How to Cook:(Bk.1) Smith, Delia 1,015,956 Random House Food & Drink: General\",\n",
       " '62 Boy in the Striped Pyjamas,The Boyne, John 1,004,414 Random House Childrens Books G Young Adult Fiction',\n",
       " '64 Amber Spyglass,The:His Dark Materials S. Pullman, Philip 1,002,314 Scholastic Ltd. Young Adult Fiction',\n",
       " '66 Men are from Mars, Women are from Venus:A Practical Guide for Improvin Gray, John 992,846 HarperCollins Popular Culture & Media: General Interest',\n",
       " '68 Short History of Tractors in Ukrainian,A Lewycka, Marina 986,115 Penguin General & Literary Fiction',\n",
       " '70 Lord of the Rings,The Tolkien, J. R. R. 967,466 HarperCollins Science Fiction & Fantasy',\n",
       " '72 Interpretation of Murder,The Rubenfeld, Jed 962,515 Headline Crime, Thriller & Adventure',\n",
       " '74 Alchemist,The:A Fable About Following Your Dream Coelho, Paulo 956,114 HarperCollins General & Literary Fiction',\n",
       " '76 Notes from a Small Island Bryson, Bill 931,312 Transworld Travel Writing',\n",
       " '78 Bridget Jones: The Edge of Reason Fielding, Helen 924,695 Pan Macmillan General & Literary Fiction',\n",
       " '80 I Can Make You Thin McKenna, Paul 905,086 Transworld Fitness & Diet',\n",
       " '82 Summons,The Grisham, John 869,671 Random House Crime, Thriller & Adventure',\n",
       " '84 Nigella Express Lawson, Nigella 862,602 Random House Food & Drink: General',\n",
       " \"86 Memory Keeper's Daughter,The Edwards, Kim 845,858 Penguin General & Literary Fiction\",\n",
       " '88 About a Boy Hornby, Nick 828,215 Penguin General & Literary Fiction',\n",
       " '90 God Delusion,The Dawkins, Richard 816,907 Transworld Popular Science',\n",
       " '92 White Teeth Smith, Zadie 815,586 Penguin General & Literary Fiction',\n",
       " '94 Book Thief,The Zusak, Markus 809,641 Transworld General & Literary Fiction',\n",
       " '96 Ghost,The Harris, Robert 807,311 Random House General & Literary Fiction',\n",
       " '98 Hunger Games,The:Hunger Games Trilogy Collins, Suzanne 792,187 Scholastic Ltd. Young Adult Fiction',\n",
       " \"100 Jamie's Ministry of Food:Anyone Can Learn to Cook in 24 Hours Oliver, Jamie 791,095 Penguin Food & Drink: General\"]"
      ]
     },
     "execution_count": 63,
     "metadata": {},
     "output_type": "execute_result"
    }
   ],
   "source": [
    "List_tag"
   ]
  },
  {
   "cell_type": "markdown",
   "id": "8428b7e1",
   "metadata": {},
   "source": [
    "# Q7"
   ]
  },
  {
   "cell_type": "code",
   "execution_count": 64,
   "id": "6c25a546",
   "metadata": {},
   "outputs": [],
   "source": [
    "driver=webdriver.Chrome()\n",
    "driver.get(\"https://www.imdb.com/search/title/?title_type=tv_series&sort=num_votes,desc\")"
   ]
  },
  {
   "cell_type": "code",
   "execution_count": 65,
   "id": "3eadf09b",
   "metadata": {},
   "outputs": [],
   "source": [
    "Name_tag=[]\n",
    "title_tags=driver.find_elements(By.XPATH,'//h3[@class=\"ipc-title__text\"]')\n",
    "for i in title_tags:\n",
    "    title=i.text\n",
    "    Name_tag.append(title)"
   ]
  },
  {
   "cell_type": "code",
   "execution_count": 66,
   "id": "130da176",
   "metadata": {},
   "outputs": [
    {
     "data": {
      "text/plain": [
       "['1. Game of Thrones',\n",
       " '2. Breaking Bad',\n",
       " '3. Stranger Things',\n",
       " '4. Friends',\n",
       " '5. The Walking Dead',\n",
       " '6. Sherlock',\n",
       " '7. The Big Bang Theory',\n",
       " '8. Dexter',\n",
       " '9. How I Met Your Mother',\n",
       " '10. The Office',\n",
       " '11. True Detective',\n",
       " '12. Peaky Blinders',\n",
       " '13. Better Call Saul',\n",
       " '14. The Boys',\n",
       " '15. Black Mirror',\n",
       " '16. Rick and Morty',\n",
       " '17. Lost',\n",
       " '18. The Mandalorian',\n",
       " '19. Vikings',\n",
       " '20. Prison Break',\n",
       " '21. The Witcher',\n",
       " '22. Squid Game',\n",
       " '23. Westworld',\n",
       " '24. House of Cards',\n",
       " '25. Money Heist',\n",
       " '26. House',\n",
       " '27. The Last of Us',\n",
       " '28. Attack on Titan',\n",
       " '29. Supernatural',\n",
       " '30. Modern Family',\n",
       " '31. Suits',\n",
       " '32. Daredevil',\n",
       " '33. Narcos',\n",
       " '34. The Sopranos',\n",
       " '35. Arrow',\n",
       " '36. Dark',\n",
       " '37. The Simpsons',\n",
       " '38. Fargo',\n",
       " '39. Mr. Robot',\n",
       " '40. Loki',\n",
       " '41. South Park',\n",
       " '42. The Wire',\n",
       " '43. Death Note',\n",
       " '44. The Flash',\n",
       " '45. House of the Dragon',\n",
       " '46. Family Guy',\n",
       " '47. Homeland',\n",
       " '48. Avatar: The Last Airbender',\n",
       " '49. Brooklyn Nine-Nine',\n",
       " '50. Wednesday',\n",
       " 'Recently viewed']"
      ]
     },
     "execution_count": 66,
     "metadata": {},
     "output_type": "execute_result"
    }
   ],
   "source": [
    "Name_tag"
   ]
  },
  {
   "cell_type": "code",
   "execution_count": 67,
   "id": "54ce74fd",
   "metadata": {},
   "outputs": [],
   "source": [
    "YearSpan_tag=[]\n",
    "title_tags=driver.find_elements(By.XPATH,'//div[@class=\"sc-be6f1408-7 iUtHEN dli-title-metadata\"]')\n",
    "for i in title_tags:\n",
    "    title=i.text\n",
    "    YearSpan_tag.append(title)"
   ]
  },
  {
   "cell_type": "code",
   "execution_count": 68,
   "id": "b921dfe9",
   "metadata": {},
   "outputs": [
    {
     "data": {
      "text/plain": [
       "['2011–2019\\nTV-MA',\n",
       " '2008–2013\\nTV-MA',\n",
       " '2016–2025\\nTV-14',\n",
       " '1994–2004\\nTV-14',\n",
       " '2010–2022\\nTV-MA',\n",
       " '2010–2017\\nTV-14',\n",
       " '2007–2019\\nTV-PG',\n",
       " '2006–2013\\nTV-MA',\n",
       " '2005–2014\\nTV-14',\n",
       " '2005–2013\\nTV-14',\n",
       " '2014–\\nTV-MA',\n",
       " '2013–2022\\nTV-MA',\n",
       " '2015–2022\\nTV-MA',\n",
       " '2019–\\nTV-MA',\n",
       " '2011–\\nTV-MA',\n",
       " '2013–\\nTV-MA',\n",
       " '2004–2010\\nTV-14',\n",
       " '2019–\\nTV-14',\n",
       " '2013–2020\\nTV-MA',\n",
       " '2005–2017\\nTV-14',\n",
       " '2019–\\nTV-MA',\n",
       " '2021–\\nTV-MA',\n",
       " '2016–2022\\nTV-MA',\n",
       " '2013–2018\\nTV-MA',\n",
       " '2017–2021\\nTV-MA',\n",
       " '2004–2012\\nTV-14',\n",
       " '2023–\\nTV-MA',\n",
       " '2013–2023\\nTV-MA',\n",
       " '2005–2020\\nTV-14',\n",
       " '2009–2020\\nTV-PG',\n",
       " '2011–2019\\nTV-14',\n",
       " '2015–2018\\nTV-MA',\n",
       " '2015–2017\\nTV-MA',\n",
       " '1999–2007\\nTV-MA',\n",
       " '2012–2020\\nTV-14',\n",
       " '2017–2020\\nTV-MA',\n",
       " '1989–\\nTV-14',\n",
       " '2014–2024\\nTV-MA',\n",
       " '2015–2019\\nTV-MA',\n",
       " '2021–2023\\nTV-14',\n",
       " '1997–\\nTV-MA',\n",
       " '2002–2008\\nTV-MA',\n",
       " '2006–2007\\nTV-14',\n",
       " '2014–2023\\nTV-PG',\n",
       " '2022–\\nTV-MA',\n",
       " '1999–2025\\nTV-MA',\n",
       " '2011–2020\\nTV-MA',\n",
       " '2005–2008\\nTV-Y7-FV',\n",
       " '2013–2021\\nTV-14',\n",
       " '2022–\\nTV-14']"
      ]
     },
     "execution_count": 68,
     "metadata": {},
     "output_type": "execute_result"
    }
   ],
   "source": [
    "YearSpan_tag"
   ]
  },
  {
   "cell_type": "code",
   "execution_count": 70,
   "id": "2ef99f46",
   "metadata": {},
   "outputs": [],
   "source": [
    "Ratings_tag=[]\n",
    "title_tags=driver.find_elements(By.XPATH,'//span[@class=\"ipc-rating-star ipc-rating-star--base ipc-rating-star--imdb ratingGroup--imdb-rating\"]')\n",
    "for i in title_tags:\n",
    "    title=i.text\n",
    "    Ratings_tag.append(title)"
   ]
  },
  {
   "cell_type": "code",
   "execution_count": 71,
   "id": "bfecff75",
   "metadata": {},
   "outputs": [
    {
     "data": {
      "text/plain": [
       "['9.2\\n (2.3M)',\n",
       " '9.5\\n (2.1M)',\n",
       " '8.7\\n (1.3M)',\n",
       " '8.9\\n (1.1M)',\n",
       " '8.1\\n (1.1M)',\n",
       " '9.1\\n (989K)',\n",
       " '8.1\\n (860K)',\n",
       " '8.7\\n (759K)',\n",
       " '8.3\\n (723K)',\n",
       " '9.0\\n (699K)',\n",
       " '8.9\\n (642K)',\n",
       " '8.8\\n (637K)',\n",
       " '9.0\\n (636K)',\n",
       " '8.7\\n (634K)',\n",
       " '8.7\\n (632K)',\n",
       " '9.1\\n (594K)',\n",
       " '8.3\\n (590K)',\n",
       " '8.7\\n (580K)',\n",
       " '8.5\\n (575K)',\n",
       " '8.3\\n (574K)',\n",
       " '8.0\\n (565K)',\n",
       " '8.0\\n (531K)',\n",
       " '8.5\\n (529K)',\n",
       " '8.6\\n (528K)',\n",
       " '8.2\\n (526K)',\n",
       " '8.7\\n (504K)',\n",
       " '8.8\\n (501K)',\n",
       " '9.1\\n (498K)',\n",
       " '8.4\\n (479K)',\n",
       " '8.5\\n (477K)',\n",
       " '8.4\\n (471K)',\n",
       " '8.6\\n (471K)',\n",
       " '8.8\\n (465K)',\n",
       " '9.2\\n (462K)',\n",
       " '7.5\\n (445K)',\n",
       " '8.7\\n (437K)',\n",
       " '8.7\\n (433K)',\n",
       " '8.9\\n (416K)',\n",
       " '8.5\\n (415K)',\n",
       " '8.2\\n (406K)',\n",
       " '8.7\\n (403K)',\n",
       " '9.3\\n (373K)',\n",
       " '8.9\\n (372K)',\n",
       " '7.5\\n (367K)',\n",
       " '8.4\\n (363K)',\n",
       " '8.2\\n (362K)',\n",
       " '8.3\\n (359K)',\n",
       " '9.3\\n (358K)',\n",
       " '8.4\\n (356K)',\n",
       " '8.1\\n (353K)']"
      ]
     },
     "execution_count": 71,
     "metadata": {},
     "output_type": "execute_result"
    }
   ],
   "source": [
    "Ratings_tag"
   ]
  },
  {
   "cell_type": "code",
   "execution_count": 72,
   "id": "93511026",
   "metadata": {},
   "outputs": [],
   "source": [
    "Votes_tag=[]\n",
    "title_tags=driver.find_elements(By.XPATH,'//div[@class=\"sc-f24f1c5c-0 cPpOqU\"]')\n",
    "for i in title_tags:\n",
    "    title=i.text\n",
    "    Votes_tag.append(title)"
   ]
  },
  {
   "cell_type": "code",
   "execution_count": 73,
   "id": "1fa494a0",
   "metadata": {},
   "outputs": [
    {
     "data": {
      "text/plain": [
       "['Votes2,259,687',\n",
       " 'Votes2,107,220',\n",
       " 'Votes1,318,440',\n",
       " 'Votes1,077,620',\n",
       " 'Votes1,070,614',\n",
       " 'Votes988,505',\n",
       " 'Votes860,279',\n",
       " 'Votes758,975',\n",
       " 'Votes723,488',\n",
       " 'Votes698,806',\n",
       " 'Votes642,077',\n",
       " 'Votes636,521',\n",
       " 'Votes635,678',\n",
       " 'Votes633,858',\n",
       " 'Votes632,447',\n",
       " 'Votes593,879',\n",
       " 'Votes589,795',\n",
       " 'Votes579,786',\n",
       " 'Votes575,390',\n",
       " 'Votes574,415',\n",
       " 'Votes564,664',\n",
       " 'Votes530,577',\n",
       " 'Votes529,326',\n",
       " 'Votes527,983',\n",
       " 'Votes526,061',\n",
       " 'Votes504,388',\n",
       " 'Votes501,179',\n",
       " 'Votes497,914',\n",
       " 'Votes478,618',\n",
       " 'Votes476,570',\n",
       " 'Votes471,445',\n",
       " 'Votes470,929',\n",
       " 'Votes465,230',\n",
       " 'Votes462,044',\n",
       " 'Votes444,607',\n",
       " 'Votes437,164',\n",
       " 'Votes432,713',\n",
       " 'Votes415,729',\n",
       " 'Votes414,842',\n",
       " 'Votes406,156',\n",
       " 'Votes403,089',\n",
       " 'Votes372,671',\n",
       " 'Votes372,123',\n",
       " 'Votes366,781',\n",
       " 'Votes363,218',\n",
       " 'Votes361,704',\n",
       " 'Votes359,078',\n",
       " 'Votes357,697',\n",
       " 'Votes355,731',\n",
       " 'Votes352,770']"
      ]
     },
     "execution_count": 73,
     "metadata": {},
     "output_type": "execute_result"
    }
   ],
   "source": [
    "Votes_tag"
   ]
  },
  {
   "cell_type": "markdown",
   "id": "b3e02a09",
   "metadata": {},
   "source": [
    "# Q8"
   ]
  },
  {
   "cell_type": "code",
   "execution_count": 74,
   "id": "a93e2b81",
   "metadata": {},
   "outputs": [],
   "source": [
    "driver=webdriver.Chrome()\n",
    "driver.get(\"https://archive.ics.uci.edu/\")"
   ]
  },
  {
   "cell_type": "code",
   "execution_count": 75,
   "id": "a4741f97",
   "metadata": {},
   "outputs": [],
   "source": [
    "search=driver.find_element(By.XPATH,'//a[@class=\"btn-primary btn\"]')\n",
    "search.click()"
   ]
  },
  {
   "cell_type": "code",
   "execution_count": 76,
   "id": "031fe7e0",
   "metadata": {},
   "outputs": [],
   "source": [
    "DatasetName_titles=[]\n",
    "start=0\n",
    "end=10\n",
    "for page in range(start,end):\n",
    "    titles=driver.find_elements(By.XPATH,'//h2[@class=\"truncate text-primary\"]')\n",
    "    for i in titles:\n",
    "        DatasetName_titles.append(i.text)\n",
    "    next_button=driver.find_element(By.XPATH,'/html/body/div/div[1]/div[1]/main/div/div[2]/div[3]/div/button[2]')\n",
    "    next_button.click()\n",
    "    time.sleep(3) "
   ]
  },
  {
   "cell_type": "code",
   "execution_count": 77,
   "id": "810d8bfa",
   "metadata": {},
   "outputs": [
    {
     "data": {
      "text/plain": [
       "['Iris',\n",
       " 'Dry Bean Dataset',\n",
       " 'Heart Disease',\n",
       " 'Rice (Cammeo and Osmancik)',\n",
       " 'Adult',\n",
       " 'Raisin',\n",
       " 'Breast Cancer Wisconsin (Diagnostic)',\n",
       " 'Wine',\n",
       " 'Wine Quality',\n",
       " 'Diabetes',\n",
       " 'Car Evaluation',\n",
       " 'Bank Marketing',\n",
       " 'Mushroom',\n",
       " 'Abalone',\n",
       " 'Student Performance',\n",
       " 'Census Income',\n",
       " 'Online Retail',\n",
       " 'Automobile',\n",
       " 'Statlog (German Credit Data)',\n",
       " 'Breast Cancer',\n",
       " 'Auto MPG',\n",
       " 'Breast Cancer Wisconsin (Original)',\n",
       " 'Spambase',\n",
       " \"Predict students' dropout and academic success\",\n",
       " 'Glass Identification',\n",
       " 'Thyroid Disease',\n",
       " 'Credit Approval',\n",
       " 'Air Quality',\n",
       " 'Default of credit card clients',\n",
       " 'Online Retail II',\n",
       " 'Optical Recognition of Handwritten Digits',\n",
       " 'Human Activity Recognition Using Smartphones',\n",
       " 'SMS Spam Collection',\n",
       " 'Bike Sharing Dataset',\n",
       " 'Zoo',\n",
       " 'Individual household electric power consumption',\n",
       " 'Lung Cancer',\n",
       " 'MAGIC Gamma Telescope',\n",
       " 'Liver Disorders',\n",
       " 'Online Shoppers Purchasing Intention Dataset',\n",
       " 'Covertype',\n",
       " 'Estimation of obesity levels based on eating habits and physical condition',\n",
       " 'Forest Fires',\n",
       " 'Letter Recognition',\n",
       " 'Ionosphere',\n",
       " 'Computer Hardware',\n",
       " 'Hepatitis',\n",
       " 'Internet Advertisements',\n",
       " 'Heart failure clinical records',\n",
       " 'Diabetes 130-US hospitals for years 1999-2008',\n",
       " 'Congressional Voting Records',\n",
       " 'Connectionist Bench (Sonar, Mines vs. Rocks)',\n",
       " 'Yeast',\n",
       " 'Seeds',\n",
       " 'Image Segmentation',\n",
       " 'Tic-Tac-Toe Endgame',\n",
       " 'CDC Diabetes Health Indicators',\n",
       " 'Real estate valuation',\n",
       " 'Pen-Based Recognition of Handwritten Digits',\n",
       " 'Energy efficiency',\n",
       " 'Nursery',\n",
       " 'Arrhythmia',\n",
       " 'Seoul Bike Sharing Demand',\n",
       " 'Wholesale customers',\n",
       " 'Statlog (Australian Credit Approval)',\n",
       " 'Breast Cancer Wisconsin (Prognostic)',\n",
       " 'Concrete Compressive Strength',\n",
       " 'EEG Database',\n",
       " 'Balance Scale',\n",
       " 'Parkinsons',\n",
       " 'Apartment for rent classified',\n",
       " 'AI4I 2020 Predictive Maintenance Dataset',\n",
       " 'Statlog (Heart)',\n",
       " 'Soybean (Large)',\n",
       " 'Dermatology',\n",
       " 'Reuters-21578 Text Categorization Collection',\n",
       " 'Online News Popularity',\n",
       " 'ElectricityLoadDiagrams20112014',\n",
       " 'Chronic Kidney Disease',\n",
       " 'Solar Flare',\n",
       " 'Movie',\n",
       " 'Statlog (Landsat Satellite)',\n",
       " 'Ecoli',\n",
       " 'Banknote Authentication',\n",
       " 'Statlog (Shuttle)',\n",
       " 'Phishing Websites',\n",
       " 'Insurance Company Benchmark (COIL 2000)',\n",
       " 'Statlog (Vehicle Silhouettes)',\n",
       " 'Twenty Newsgroups',\n",
       " 'Early stage diabetes risk prediction',\n",
       " 'ISOLET',\n",
       " 'Appliances energy prediction',\n",
       " 'Contraceptive Method Choice',\n",
       " 'Soybean (Small)',\n",
       " 'Molecular Biology (Promoter Gene Sequences)',\n",
       " 'Lenses',\n",
       " 'Combined Cycle Power Plant',\n",
       " 'Flags',\n",
       " 'KDD Cup 1999 Data',\n",
       " 'Productivity Prediction of Garment Employees']"
      ]
     },
     "execution_count": 77,
     "metadata": {},
     "output_type": "execute_result"
    }
   ],
   "source": [
    "DatasetName_titles"
   ]
  },
  {
   "cell_type": "code",
   "execution_count": 79,
   "id": "5db469c5",
   "metadata": {},
   "outputs": [],
   "source": [
    "from selenium.common.exceptions import ElementNotInteractableException"
   ]
  },
  {
   "cell_type": "code",
   "execution_count": 80,
   "id": "b8a03003",
   "metadata": {},
   "outputs": [
    {
     "ename": "SyntaxError",
     "evalue": "invalid syntax (2455423946.py, line 11)",
     "output_type": "error",
     "traceback": [
      "\u001b[1;36m  Cell \u001b[1;32mIn[80], line 11\u001b[1;36m\u001b[0m\n\u001b[1;33m    except ElementClickInterceptedException as e:\u001b[0m\n\u001b[1;37m    ^\u001b[0m\n\u001b[1;31mSyntaxError\u001b[0m\u001b[1;31m:\u001b[0m invalid syntax\n"
     ]
    }
   ],
   "source": [
    "DataType_titles=[]\n",
    "start=0\n",
    "end=10\n",
    "for page in range(start,end):\n",
    "    titles=driver.find_elements(By.XPATH,'//div[@class=\"my-2 hidden gap-4 md:grid grid-cols-12\"]')\n",
    "    for i in titles:\n",
    "        DataType_titles.append(i.text)\n",
    "    next_button=driver.find_element(By.XPATH,'/html/body/div/div[1]/div[1]/main/div/div[2]/div[3]/div/button[2]')\n",
    "    next_button.click()\n",
    "    time.sleep(3)\n",
    "except ElementClickInterceptedException as e:\n",
    "    print(\"Exception Raised:\",e)"
   ]
  },
  {
   "cell_type": "code",
   "execution_count": null,
   "id": "c2c2a873",
   "metadata": {},
   "outputs": [],
   "source": []
  }
 ],
 "metadata": {
  "kernelspec": {
   "display_name": "Python 3 (ipykernel)",
   "language": "python",
   "name": "python3"
  },
  "language_info": {
   "codemirror_mode": {
    "name": "ipython",
    "version": 3
   },
   "file_extension": ".py",
   "mimetype": "text/x-python",
   "name": "python",
   "nbconvert_exporter": "python",
   "pygments_lexer": "ipython3",
   "version": "3.10.9"
  }
 },
 "nbformat": 4,
 "nbformat_minor": 5
}
